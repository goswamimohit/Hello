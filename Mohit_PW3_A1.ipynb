{
  "cells": [
    {
      "cell_type": "markdown",
      "metadata": {
        "deletable": false,
        "editable": false,
        "nbgrader": {
          "cell_type": "markdown",
          "checksum": "4c113f93239b265a1d83c37d41ea79a7",
          "grade": false,
          "grade_id": "cell-0a1cd97d29171e27",
          "locked": true,
          "schema_version": 3,
          "solution": false,
          "task": false
        },
        "id": "sopW7DNUqS9j"
      },
      "source": [
        "# Rules:\n",
        "    1. Follow the given instructions strictly as the assignment will be automatically rejected if not done so.\n",
        "    2. After you are done answering the questions, save the notebook in .ipynb format and rename it as so;\n",
        "        \n",
        "        <<Your name as visible on 'My Courses' page>>_PW3-A1.ipynb\n",
        "        \n",
        "    3. After renaming the file as above submit onto the platform."
      ]
    },
    {
      "cell_type": "markdown",
      "metadata": {
        "deletable": false,
        "editable": false,
        "nbgrader": {
          "cell_type": "markdown",
          "checksum": "31b33e7346bdaa5a04eb688faa7453c9",
          "grade": false,
          "grade_id": "cell-39806162dd625703",
          "locked": true,
          "schema_version": 3,
          "solution": false,
          "task": false
        },
        "id": "VHTaJO8VqS9p"
      },
      "source": [
        "# Python W3 - Assignment 01"
      ]
    },
    {
      "cell_type": "markdown",
      "metadata": {
        "deletable": false,
        "editable": false,
        "nbgrader": {
          "cell_type": "markdown",
          "checksum": "b3d4bce7dd835bbe25e6d570aa74eb6b",
          "grade": false,
          "grade_id": "Q1",
          "locked": true,
          "schema_version": 3,
          "solution": false,
          "task": false
        },
        "id": "Z1aUfeHMqS9r"
      },
      "source": [
        "\n",
        "## Object Oriented Programming\n",
        "\n",
        "List down the main components of object oriented programming and explain them.\n",
        "\n",
        "Instructions:\n",
        "- Enter your solution in the cell block below only. Double click to edit.\n",
        "- Do not edit anything else apart from 'YOUR ANSWER HERE' for your solution"
      ]
    },
    {
      "cell_type": "markdown",
      "metadata": {
        "deletable": false,
        "nbgrader": {
          "cell_type": "markdown",
          "checksum": "b1bb0f26c3115f4d7d7f924544ba6de8",
          "grade": true,
          "grade_id": "A1",
          "locked": false,
          "points": 2,
          "schema_version": 3,
          "solution": true,
          "task": false
        },
        "id": "cJdOhCpNqS9s"
      },
      "source": [
        "\n",
        "\n",
        "```\n",
        "# This is formatted as code\n",
        "```\n",
        "\n",
        "##***Class***\n",
        "\n",
        "* class is a collection of objects.  Unlike the primitive data structures, classes are data structures that the user defines. They make the code more manageable.\n",
        "* when we define a class only the description or a blueprint of the object is created. There is no memory allocation until we create its object. The objector instance contains real data or information.\n",
        "\n",
        "##***Constuctor***\n",
        "* The job of the class constructor is to assign the values to the data members of the class when an object of the class is created.\n",
        "* So, the properties of the car or any other object must be inside a method that we call __init__( ). This __init__() method is also known as the constructor method. We call a constructor method whenever an object of the class is constructed.\n",
        "\n",
        " * Now let’s talk about the parameter of the __init__() method. So, the first parameter of this method has to be self. Then only will the rest of the parameters come.\n",
        "\n",
        "##***Methods***\n",
        " \n",
        "* Methods are the functions that we use to describe the behavior of the objects. \n",
        "* They are also defined inside a class\n",
        "* The methods defined inside a class other than the constructor method are known as the instance methods.\n",
        "\n",
        "##**Inheritance**\n",
        "\n",
        "* Inheritance is the procedure in which one class inherits the attributes and methods of another class.  The class whose properties and methods are inherited is known as Parent class. And the class that inherits the properties from the parent class is the Child class.\n",
        "\n",
        "* The interesting thing is, along with the inherited properties and methods, a child class can have its own properties and methods.\n",
        "\n",
        "##**Encapsulation**\n",
        "\n",
        "* Encapsulation, as I mentioned in the initial part of the article, is a way to ensure security. Basically, it hides the data from the access of outsiders. Such as if an organization wants to protect an object/information from unwanted access by clients or any unauthorized person then encapsulation is the way to ensure this.\n",
        "\n",
        "* You can declare the methods or the attributes protected by using a single underscore ( _ ) before their names. Such as- self._name or def _method( ); Both of these lines tell that the attribute and method are protected and should not be used outside the access of the class and sub-classes but can be accessed by class methods and objects.\n",
        "\n",
        "* Though Python uses ‘ _ ‘ just as a coding convention, it tells that you should use these attributes/methods within the scope of the class.\n",
        "\n",
        "##**Polymorphism**\n",
        "\n",
        "* This is a Greek word. If we break the term Polymorphism, we get “poly”-many and “morph”-forms. So Polymorphism means having many forms. In OOP it refers to the functions having the same names but carrying different functionalities\n",
        "\n",
        "##***DATA_ABSTRACTION***\n",
        "\n",
        "* We use Abstraction for hiding the internal details or implementations of a function and showing its functionalities only. This is similar to the way you know how to drive a car without knowing the background mechanism. Or you know how to turn on or off a light using a switch but you don’t know what is happening behind the socket.\n",
        "\n",
        "* Any class with at least one abstract function is an abstract class. In order to create an abstraction class first, you need to import ABC class from abc module. This lets you create abstract methods inside it. ABC stands for Abstract Base Class."
      ]
    },
    {
      "cell_type": "code",
      "execution_count": null,
      "metadata": {
        "deletable": false,
        "editable": false,
        "nbgrader": {
          "cell_type": "code",
          "checksum": "eac05f55af24ef036be718ea50a5abc5",
          "grade": false,
          "grade_id": "cell-bdbb11386adf6c13",
          "locked": true,
          "schema_version": 3,
          "solution": false,
          "task": false
        },
        "id": "JF2zU-kwqS9t"
      },
      "outputs": [],
      "source": [
        ""
      ]
    },
    {
      "cell_type": "markdown",
      "metadata": {
        "deletable": false,
        "editable": false,
        "nbgrader": {
          "cell_type": "markdown",
          "checksum": "45d35194399b7f3008c91d7f67c9b738",
          "grade": false,
          "grade_id": "cell-a13189a026c3771d",
          "locked": true,
          "schema_version": 3,
          "solution": false,
          "task": false
        },
        "id": "rI-cszfsqS9u"
      },
      "source": [
        "## Match the following:\n",
        "\n",
        "A) Packages functions and variables into one bundle\\\n",
        "B) Object focused design\\\n",
        "C) Runs everytime you instantiate a class\\\n",
        "D) Data and functions focused design\n",
        "\n",
        "I. Procedural Oriented Programming\\\n",
        "II. Classes\\\n",
        "III. Constructor\\\n",
        "IV. OOP\\\n",
        "V. None"
      ]
    },
    {
      "cell_type": "markdown",
      "metadata": {
        "deletable": false,
        "nbgrader": {
          "cell_type": "markdown",
          "checksum": "1a0107d547bbc31ea16076f863855b96",
          "grade": true,
          "grade_id": "cell-5b0ec5b5f53b7705",
          "locked": false,
          "points": 1,
          "schema_version": 3,
          "solution": true,
          "task": false
        },
        "id": "2QzorgsaqS9w"
      },
      "source": [
        "I. -- (D)\n",
        "\n",
        "2.\n",
        "\n",
        "III.-- (C)\n",
        "\n",
        "IV.--(B)\n",
        "\n",
        "V.--(A)\n"
      ]
    },
    {
      "cell_type": "markdown",
      "metadata": {
        "deletable": false,
        "editable": false,
        "nbgrader": {
          "cell_type": "markdown",
          "checksum": "21813dd605aac6b7bc5e647521708569",
          "grade": false,
          "grade_id": "Q2",
          "locked": true,
          "schema_version": 3,
          "solution": false,
          "task": false
        },
        "id": "kluNBML1qS9x"
      },
      "source": [
        "## Scenario Code\n",
        "\n",
        "At an animal shelter, the bookkeeper keeps track of different animals residing there, or those who have resided there before. For each different type of animal they have a designated set of instructions to follow about nutrition, medication etc. The bookkeeper is finding it hard to write down in excel sheets and account books, so they are looking into the programming side, to get some help. They hire a novice but skillful programmer inorder to tackle this bottleneck, which is you!\n",
        "\n",
        "You have to come with a structure of classes which can differentiate the following animals, demonstrating the OOP cocepts;\n",
        "\n",
        "`[Dog,Cat,Lion,Eagle,Crocodile,Crabs,Fishes,Lizard,Reptiles,Turtles, Vertebrates,Invertebrates, Insects, Arthropods, Crustaceans,Butterflies,cockroaches, ants]`\n",
        "\n",
        "Instructions:\n",
        "- Enter your solution in the cell block below only. Double click to edit.\n",
        "- Do not edit anything else apart from 'YOUR ANSWER HERE' for your solution"
      ]
    },
    {
      "cell_type": "markdown",
      "metadata": {
        "deletable": false,
        "nbgrader": {
          "cell_type": "markdown",
          "checksum": "932f2babf6b7024bb49654516db0d0cb",
          "grade": true,
          "grade_id": "A2",
          "locked": false,
          "points": 2,
          "schema_version": 3,
          "solution": true,
          "task": false
        },
        "id": "GZvUwo6HqS9z"
      },
      "source": [
        "\n",
        "\n",
        "\n",
        "\n",
        "\n",
        "Vertebrates\n",
        "\n",
        "Mammal\n",
        "\n",
        "Dog,\n",
        "\n",
        "Cat,\n",
        "\n",
        "Lion,\n",
        "\n",
        "Fishes\n",
        "\n",
        "Birds\n",
        "Eagle,\n",
        "Reptiles,\n",
        "Crocodile\n",
        "Lizard\n",
        "Turtles,\n",
        "Invertebrates\n",
        "Arthropods, \n",
        "Insects, \n",
        "Butterflies,\n",
        "Cockroaches\n",
        "Ants\n",
        "Crustaceans,\n",
        "Crabs\n",
        "\n",
        "\n"
      ]
    },
    {
      "cell_type": "markdown",
      "source": [
        "![image.png](data:image/png;base64,iVBORw0KGgoAAAANSUhEUgAAAR0AAAGsCAYAAADg/HOrAAAAAXNSR0IArs4c6QAAAARnQU1BAACxjwv8YQUAAAAJcEhZcwAADsMAAA7DAcdvqGQAADGwSURBVHhe7Z1PiFXn+cdPsqlNF6ItVRqwiZuULDJBpLXEuFCI7SpVQTvkD3QhE7QogrqRmHSKdKEghmp0QikxE5oMaOKmTQYUgv6ICxENSNMskmBJUWMdQiRNVvObz+t9rs+8nnvvmfvnvefe+/3Aydxz3vPvTjzfeZ7nnOd77pueIRNCiETcX/kphBBJkOgIIZIi0RFCJEWiI4RIikRHCJEUiY4QIikSHSFEUiQ6QoikSHSEEEmR6AghkiLREUIkRaIjhEiKREcIkRSJjhAiKRIdIURSJDpCiKRIdIQQSZHoCCGSItERQiRFoiOESIpERwiRFImOECIpEh0hRFIkOkKIpEh0hBBJkegIIZIi0RFCJEWiI4RIikRHCJEUiY4QIik9Kzr//e9/s1/96lfZH//4x8qSe2GMdVh3rvzvf//LLl26VJlrDMeqdy7N8sknnzR1/kKUlZ4VnR/+8IfZc889l/3f//1f7kXJMsZYh3XnAoKzY8eO7MqVK5Ul3YHz37ZtW2VOiP6gp9Or5cuXZ9euXcvee++9ypK7fPzxx2GMdYQQ5aGnReeRRx7JNmzYkJ09ezZEJwaf33jjjTDGOkDqc99994Xp8ccfz/71r3+F5UREw8PD2djYWBh76qmnsi1btmTHjh3Lnn322eyFF16o7rvWPoyvv/46rG/r+HTrzTffzHbv3l0dZ579+vWZLB0kylm5cmX2/vvvZz/60Y/CPHBMjm3rxykd+/X7Y16IMtFx0cm7sJj3ItEKq1evzs6fP59dvXq1siQLn1nGmB0fpqenw3T48OFs06ZNVdGYmprKLl68mH3zzTfZ5ORkduTIkWxkZCQbHx/Pjh49GtZptA/Yv39/SOcYv3nzZhAKf9H78WeeeSY7cOBA9uCDD1b3yTbA8Z944ons3Llz2dq1a8Ny5tkfx3z77bfD+pzvF198URUexhFb1mecaO/48eP3iKMQ3aTjonPy5MkQNXiYZ3k7WLZsWbZixYpsYmKisiTLLly4EJYxhgB99dVXIXoxuICJgvw2Tz75ZPb973+/MjebovsYHR0Ny4E60osvvhhEwGpOCMjPfvaz8BkYZzLYxrbP48yZM9muXbuq0RvnS+0JcUJYPv/887DcYD0iJVtfiDLQcdH59NNPK59mU2v5XOHCQzD4K8/FTWRDumUiwl/9t956K6QoPtrau3dvZQ93eOihhyqf7qXoPpYuXVr5dAfW9xEMx3jggQfCZ49PieJ9GnwvohpSPn8OiNj169fDOqRmYOep1EqUkZ6u6Rh2sZFOkCbxF9+W8dlSFEtjbPJRRj3asY88rEbkUyKipTxIpTgPUr74HLi1TzRDpERRnWWsZwIl8RFlouOis3HjxmxoaKgydxfqLe3C0hLSDyY+221yogvuYlm00QxF9xFHb6zPRU/kEWPFYlIjhILztWgmDyIkzqNohEjNyMQnLrQL0U06Ljr8Babw6YWHC61e7aIZELcTJ06E9MQLmtV8Dh48WL3wuOCJhGpFAKRlFHjtAi+6D46NkADjRDKNnhPydRgKy77+5dMzzol9+WMAx+c8OJ7/DJyrTzWFKAUz/6j7gpn0Y3pkZCRMfPbYGF/XppkIIIzNXNDTM6nT9IwQhnmDedZjjHXq7QNm0qLpXbt2zVrHj/M5PreZdHB6Royr67MP1ss7pu3LzssmW9dgH36ceSHKxH38Z+YfpxBCJKEvCslCiN5BoiOESIpERwiRFImOECIpEh0hRFIkOkKIpEh0hBBJkeh0EZ4YxjIj9sTx8PQxrRT+KeQyY09q98r5ivRIdEoAtqh5LRlcwDSD5vWuCdGrSHRKwC9+8YvQ5xU3ZdI1T+/a4sWLK0uE6H0kOiXgxz/+cfiJLYeBAJ06dSr7+c9/XllyB0vJSLls8k2epGreFpWJKMrbnHqrVcZYl21sffZhaZIt8+mSpXx+yovUIN6PP1cxmEh0GpB3kTMfRyWtQmc8thyG2a/+9Kc/DT+NehanhrdFpaMfXx065D/88MOwDMdD3zFPZzspHGNEV3TrY42BkLBsfHy8KkSIFZ4/rMeYjXPM2BaV/e/Zs6d6Lky4C/hzFYOHRKcBeCZjCWoXDRPzLG8nOADipWNRAJarCEFsSVHE4nRkZCTYcQD7xYCMC9/2FTscMk4EAkuWLAk2Ht6Sw7sq5lmg8saNRYsWVebu8k3FeMwTn78YPCQ6BeBC9MTz7YALnAiGCIII4fLly3Vfn0MUYpFXbHHKfubin1PLRrUePm3ylqkevhPiZQ6GSq0ESHQacOPGjfAXOwWWYllqlSdupDlcwEUsTjuB1YYwGLO0CaHMi3TAHAwtDWQ7ic9gI9FpwKpVq0JdxMObLPIsSFvFUqy///3vuakVFypFXM6niMVpJ7A3bSDECAogKHmRjodz5ZxNfBAqMZhIdBpA7eL27dvVVIYJ2m23CpbivP7663VTq3oWpyng+Bb9Efls3bo1fI6xFMzf2TKxQWDFYCLRKYClCDbZX/h2Q2SDnzGRRF5qRbRw6NChcKfICyB3j4iAUqQsfHcEl0iP4/PyP148yLNEREGevPNFoFjGmBhMZFcqhEiKIh0hRFIkOkKIpEh0hBBJkegIIZIi0RFCJEWiI4RIikRHCJEUiY4QIikSHdE09H3FXkM21TL1EkKiI1qGNgzfJkJTJ13w9QznxeAi0RFtx3qucCDUWyFEjERHdAS687FF9Ras5sVjKVgcCcXjY2NjwdUwtkEVvY1Ep48xawm7iP2UwkgLW1S8fqj9EPFgZ0FHuqVgLDPh4Vy2b9+e7dq1qzqOb1Ejnx7Re0h0RBKIeHA4NB8iUjC8ks2SA4MvbFPXr18/a1z0HxId0XG+/fbbEPHEhvBEPgsWLAhRDe/9ir2d8eypZYMqeheJjugYCAmmZPPmzassmQ1ic+vWrcqcGBQkOqIjUPzFyxnbVaIXohhEyIPoUF8iovH1H4Nx1XT6D4mOaDtWFF65cmX1/Vi86YJX5dgtdNahiEyNh/oNhW28lyke+3HRf0h0RMvYe61sInLh9TS+EIy4YMqOR7KtwzJbx57tMT9lxikq+5oOIiQh6n3kkSxKCynayy+/nP35z38OokT0QyS0efPmyhqiF1GkI0oBvVr+2SFqO7xv/dFHHw2CA0RKc30TqSgfEh1RCuJX2yAuFJ99ikZhud77wERvoPRKCJEURTpCiKRIdIQQSZHoCCGSItERQiRFoiPaAre87eFApmasM1j/k08+qcyJfkWiI1oCoUBgzp49m33zzTdVy1KeSF6zZk1hAy72w23zL7/8srJE9CsSHdESR44cCT44PMjnbSkQEJwDWe6bOIXgr5IQTXHz5s3ptWvXTp87d66ypD6jo6M8E1adhoaGpj/++OPqfmw564n+RZFOH2Opj6+1tFJzieEJ4Zl/Q+Ep4kZQ88G6wlIwfq5YsSJEQjx9zDh+yNhhyDGwv5HoiJZYuHBhIdEh3Tp69Gg1BeMnBl9i8JDoiJbA+Y+Ipyj46Vi0hSWGGDwkOqJprDmzluhw52p4eDikcXZLHT8dusVJsXhJnxg8JDqiabCc4NY4b/PMu0M1MTGRzZ8/P7v//vvDLXVE5tKlS1U3wdi+VAwGEh3REhSksRndsWPHLOEhsuENnyw3Y3YvMoxjX2pQTObWO/sS/Y1ER7QE0Q7vrML7BuGweg3Rz+nTp0NUQ9F43759s+o5RD6Tk5PZ+fPns6tXr1YLy9R5XnjhhWxqair8RJxEfyE/HVFaqAlR/3n66acrS0Q/oEhHlJYLFy4Uuh0veguJjigtPEDIW0BFf6H0SgiRFEU6QoikSHSEEEmR6AghkiLREUIkRaIjmoYnkBs9wKf3j4sYiY7oKHjjyB9HeCQ6QoikSHRER4nTK1obHn/88WoPlh8jTSNdGxsbq463w+FQlAuJTh/TabvSuULDJ08YHz58OPjp4MPDMi88x44dy37wgx9ULU3pPMf8XfQPEh2RjDNnzmSjo6PZE088EebpUKfeg/CYAOKTjCCCdZ7jraw3SvQPEh2RBEQD8Vi6dGllyR2IfBYsWFB1HySywSJD9C8SHdFVEBt8lsXgINERSSBVwugrtihFdKgxycJicJDoiGSsXr06WJRSwwHqOBSRqfFQ3xGDgURHtAwWo/HdMW59x8VfxAUnQN4IYdENy4o+PFjkCWhRfuSnI3oKWZj2Pop0RE8hC9PeR6IjegpZmPY+Sq+EEElRpCOESIpERwiRFImOECIpEh0hRFIkOkKIpEh0uog9YRs/zWsTT96aJ461DtTDTLBkAyHKjESnBIyPjwfTqnh65plnQk/Se++9V/WgEaLXkegIIZIi0Sk5cXpl85aC5dmOvvTSS9XxON2KU7p4e1I0G2NSc6VoNxKdBuTVXbpVN+GYe/bsyZ577rlqCkba5T2E8RgeGhoKY7QMwIEDB8JPxGXdunXBAtS2Z1+kcYwhbG+88UbwuGGMxsrjx4+HJksh2oVEpwGTk5PZjh07qhcpE/Msbxd51hDerNxARD7//PPK3B3i90rV8xhGRLADXb9+fRgHPrOMulG870ceeSR7//33w08h2oVEpwBLliypfLpDPN8qeYXkPI8ZispEJiZSealVPY9hRIVIiHETNz6zDEys6OJmTKmV6AQSnQbcuHGjmqaUAVIhRMmMzBGIPPHJA6vQkZGR8H1ikfN3yphHCE3cJD6inUh0GrBq1ars3Llzlbk7nDx5suueLiYQJj6kTo3gTQxEO0VE1MQN8Tl79mxXaliiP5HoNIB6xu3bt6vpCBN047kZohmiGh95mNgU8Zix9MkXnu2NmxSR2a+PmhAaBIe6EPUhIdqBRKcA9lffpyLdgOjm0KFD2f79+6sCiN8wyxhrBOsgLAiMbW9v3ERE+V78tJoO9R7e4NCt7yv6E5l4CSGSokhHCJEUiY4QIikSHSFEUiQ6QoikSHSEEEmR6AghkiLREUIkRaLTRXjiN7bNsMnbk/LUMN3jc7GYsKeX/X6EKAMSnRIQd5nT67Vy5cqqYMhiQvQTEp0SsmzZstANHvvbCNEPSHR6AJ9ekTYNDw9nY2NjIQ2zBk1Lpyw9w/HP4/utmPJMwoRIgUSnAXl1l07blV68eDH89A5/nqmpqbAOFhXYW9CYiY0pzZqkZyxHoEjJgM+jo6OhI51x7DAQIdV7RDeQ6DSgG3al1HMa+d54uwkEiPW3bNkS5lnOOeKVDIjM9evXw2cwL55u2HMIIdEpQGq7UjPmInqpFVFhS2ogOLFNKfYUixcvDp+pEa1YsSLYWCBqSq1EN5HoNKAbdqVEIngkF3X5awSRz9GjR4OgcWds7969Eh/RNSQ6DSirXamHKCcWKKKla9euVebuYnUfvhM1HXMJFCIVEp0GdMOulJSK90/x5ocijoCkTwiP2ZCy/cGDB7PLly+HecQFS1L/cOGZM2fCdyiyfyHaiUSnAJ22K40LydRmKBQXPQ7pEyLD+61se8SS2+yAuOzatata02Fi3Z07d4ZxIVIiu1IhRFIU6QghkiLREUIkRaIjhEiKREcIkRSJjhAiKRIdIURSJDpCiKRIdIQQSZHoiKbJ8xrykxmMtYoZlMn/pz+Q6IiWia05bMKzR71dIkaiI4RIikRHJIHUKE6/3nzzzcro3RTKxmhgrZdSxfvz+xLlRqLTx8QXsp/aVW8pQuzRzERKtn///jBGbaiex3MMAoMBGZ5BrM9PrEAkPL2BREe0TGzNYZOJQN57u5YvX54tWrQofG7k8exBoM6ePRucFa1eZE6LCE8qIRXNI9ERLVOrkBz7AfnIC28fM4tv5PHsIQpifczrvcAxL3oDiY7oOKRKOBciJLghIkikWhbpzAWzYcVuNRY53S3rDSQ6ouNcuHAhvI2CKMWiH8TDIp25eDxbBMT6ojeR6IgkeFEh8tm6dWv4DI08nj1EMkRLVoQ2KCx3+iWIoj1IdETL1Cokmxk80Q13pohSWL5p06bs8OHDIWIhCqJwvG/fvupt8NjjOYb95Xk+I1Tsi2Paa5hF+ZBHsiglFJ1///vfZy+//PKsu15FOXXqVBClZrYVnUWRjug6RDjxK3JItebPn9/U21RJsT766KNSvZtM3EWiI7pOrVfkWLo0V6gdkbrpTlY5UXolhEiKIh0hRFIkOqKjWLokhCHREUIkRaIjhEiKRKeLcGu3nt1nLS+ZZuF4ly5dCp+t+dKOwRO9TEJ0GolOCcjr0qahkc7pdgkPgoNdxJUrV8I8t5NpkOR2tRApkeiUFMQA46szZ85UlgjRH0h0SgqRCQ/IeXhilyd3Lf3y6ZD1G42NjVXH7Slfi3KOHTsW+qRI6dh3PTvQescCDLpsjEmufaIoEp0G5NVdUnQz46Z3/vz5bOPGjWEecaBR8u233w7pF0/dIhxeDLCKOHnyZNXGk6d8t2/fHtbl6d6RkZGQyh09ejSbN29eZat7aXQsxnHps+PgjXP8+PFZbQxC1EKi04DJyckQJXBx2cQ8y9tFXpc21g9c9NawSJqFiNi8WXpS+/EXu7fxXL9+fbCMoHYzFxodK/ayYb3YjlSIWkh0ChA3HTbThFgPX0jmwgasH+witlQrFidv+Qk48fkmR8TiwQcfzD799NPKksYUORZpGZhVhVIrMRckOg24ceNG1XwqBRSQESF/54rjE13k3eXiFng7I4wix7I7XyxjPRMoiY8ogkSnAatWrapGHwZ1k07aJpAWUX+hhsLzNJhakSY1iliIRKizGBa1LF26tLKkMUWPZWCoZeLDWxo6XesSvY9EpwH8Zb99+/asVAM6+XyL1VDwCCaiYB6Lzr17986620RkEb+/yoQKEEeiFtYpmmoVOVZ8XIQGwXnyySfD9kLUQ6JTAPtrbpOZi3cSxG7Dhg0hdeHiR+TsgUETP3vBnBWOqekQJVmtJR5fvXp1EBMEY2pqKizLo9GxYvtRoiMEzX4vCJ+/qyaER346fQJ3lbZt25a98sorba3xNAMREFHW5s2bgyiB/pkJQ5GOaDs8t+NfnCeER6Ij2g7FbF4bLEQeSq+EEElRpCOESIpERwiRFImOECIpEh0hRFIkOqIt8OCgPUjIFD8pXQY4H87LnrT2DzFy/iksS4RER7SIXci0QdAsys1QJlop1qxZU2qPHWxAmERaJDqiJXjnOA2i8SuAaYmgjYPlih6ER6IjmoYoh1SFqCav0ZMoApdCxkhfdu/eXXVhZB6IhOrZorJ/G8sbZ97GzJ7VsCjMxnE39Pj0Kgah9I6RZUwXexWJTh8TX3R+asdFZHalRW0+9u/fHwSKbYiEEBTMwTAsYxn7Y5kJAZ9pOqX51I8jWCYKWHdYWofbITarCA/je/bsCY2pjLEOy3E4bAS/l3Xr1oWuebZl4rw5ZwlP60h0REssXLiwsOhgHI/IGNii8sYLswmhg53oCGHh4s4bx+qDi//q1avZZ599FixALMqiw37FihXZhQsXgsc0th5btmwJY6zDukNDQ2G+HvSOkTKyP6NZ61dxLxId0RK3bt2aZRxWDy5aawQlEskzGEOUFixYEMbqGZBxTCI2L3gIC9EJnkEIjj8esO7ixYsrc7VhW96cwbYWGfKZZaJ1JDqiacxPp5bokM4MDw/PKSVhXwhZs8zFD7oW7APnRn83zibzDBLNI9ERTUO6Q60Dg6+8O1QTExPZ/Pnzc20uiErynAwtgmGsntMhgocIeMHz0RNRDhELwmGwLm6MjWD7eFvRPiQ6oiUoSHOBUi/xwkOx98SJE7NqLjHmZEgNB4iIKCJTw0HQGGcf/o6U3XHijRwPP/zwrFvyGIfxrjBsNZYtWxaEh1v6wDqse/ny5TBfD74T2LbAOXB3zM5VNI9ER7SEFXeJSnwNhOjn9OnTdV0MEReKtrzji22IXlhmD+zxmTtb1Hlsv8A4QsbteH9c7o7Zu8IYR2SIfBhjHZZTzG4E3wnRRGDsuHaXzYraonnkpyOESIoiHSFEUiQ6QoikSHSEEEmR6AghkiLREUIkRaIjhEiKREcIkRSJjhAiKRId0TS0FuBpY4ZceVjbQipoV+CpY986IcqFREd0FFoWrK1BCJDoCCGSItERHcXSK0vFrIHST9a57RssbbLUjQ50vHnGxsbCcrNbte5vW/+DDz4I64vyItHpY7goO+mRPBesK9zMsJiwIsUsCxsKxIN5us5tfHx8PHSOW31mamoq2JDic2O2odu3bw/eyKyPXw72FtevXw9jopxIdERXMOuIffv2BUHCdgLTdG+FgS/OokWLKnN3wI7U/HkQHjxzzMsYSwrVj8qPREckB7Ehgjl06FAQCo+PzvCwiaMWRMbAVRA/HRMhwJMnFipRLiQ6IimkSph2YYjloxqrzSAa9poaUi0JSP8h0RHJIIqxGkzswMdrY3h9DPUaMz+nRlOvPoOXMc6A3ia10Tai+0h0RBIQBl5+52swMd4M3SKiepCGsQ3FY0DUUj6IKJpDoiNa5tlnn73n7hi3x30Ewl0n3hsVv0+KiaIy0Q3Rj73Whjd1koLxniqioDzMyxg/ZrZhWwRNKVm5kUeyECIpinSEEEmR6AghkiLREUIkRaIjhEiKREcIkRSJjhAiKRIdIURSJDqiaXj61z/kF0/xA4Jz4ZNPPqlab/AAYCv7EuVCoiOaBhsJni215synnnpqlh8O/jm+A7wodKFv27atMif6DYmOECIpEh3RUfJSI7+Mz7t37w7zpGQvvfRStnLlymDoRS+VWZl62M7WZ4pdEGPbUzWBlguJTh/jDbHiKbVdaT0w9DIPnT/84Q/ZuXPnwmtksKmILTA453Xr1gUHQUvj2JaGUcZi21P2gQjliZfoDhId0XUQGFwCi4CYxPYYfGYZ9qWxnw6d6CyPxUt0D4mO6DoIBnYXRcA/J7bH4DPLAJN3zMAQMcaUWpUPiY7oKfBF5g0SmH1ZemUTKZZ/6wRp2t69eyU+JUOiI5KDcDQLFqXeYbAepFQmPtR0ylLDGnQkOqKjkDqR+uAcCBR6T5w4ET7XgrtWiAX1mRgK4HDkyJHwE8zU3QrGfGaZcebMmSBA8ZsnRHeQ6IiOwsXOS/O4DU6ac/DgwWzLli2V0XyWLFmSPfzww6Euwy11j1mUIi5W02E9rE05FhPG71bTYcK8fefOnWF7tivTnbtBRHalYuB47bXXwh0vRT7dQZGOGCiIcK5du1b4bploPxIdMVBQJ3rsscea6gkT7UHplRAiKYp0hBBJkegIIZIi0RFCJEWiI4RISs+LDj013e6r8daajeBJWbqq/ROz7QCPmUuXLlXmhCgvinRahCdcu22tieDs2LEju3LlSmWJEOVFoiOESEpfiQ4pDn01p06dmuWYZ/07eX03Zn1p61jzoG3rUzfGhoeHQ/8QYzjY5VlrNrLThA8++KA67hsUWY9jjI2NzdrW9xrZxDlblENT5bPPPlu1AQXO3daNmyDtd2XjeecoRCfouOjEFyCTvzA6wauvvhouSJ57xNYAO0wuOHOnw0nOuHr1avbZZ59ly5cvDxf2pk2bsrfffjtsi30CzYJeeP75z39mt2/fDuPvvPPOPdaaXLj17DQBZzu6rs0ThgbF7du3V8enpqaq4+aG5y04mWii5Htx/oggHjMsw0sG+B2DrU9DJN+N3wO/+z179lQtQpk4d9+5LUSn6LjonDx5surqZjDP8k7BxWTNfAjN4sWLw4XLMsbOnj1bFb0LFy6EjmY6m7FAQAAeeeSRMMaj8kQRCIuPElavXl35dC+N7DRh0aJFYb/2KH48DoiWjXM+RFN2XoBIsp88EKKvvvpqVjc3orJhw4ZsYmIiiBmeNB5eJ8MkRKfpuOjUMmxqxcipEVzAteBiJbLhwkR4ECAucCCqIUXxURmi5T13udBJpWrRyE4TFi5cOGsfiMuDDz4463eS9x18ShSflweBfeutt8Ix7ByYcNEDE1/7rkqtREoGrpBsXi1EOBYRcNHZX39SFEs5bOJWtI8y6tHITrMZiLKoySAilhIRUdWKdPgelvLF52DRDOfCPOsA+5b4iBR0XHQ2btyYDQ0NVebuUi9F6SREFUQ2RDh/+ctfskcffTT85ScaIbpoNQIrYqd569at6sUORFxEWWybBwKJ2Tj7NOFi+1qRDt8D+wZ/jFrw3a1uBIiZEJ2k46JDhEBh1gsPNRJqDN2Cv+gIA4VYEz/EiCiCFMTuQgEF6XoRABGCjxhYF2rZaQJiQfHX6krUtzgf2zYPL2Tsb+vWreEzxOmZvRHBH8NSM76P/2yY2FixXYhOkSS9QnhIUSzE76bgAH/dOYf4fUssQxDNWpPpjTfeCBcn2+QRW2uyHj/9LW7GzE4TSIsQBqv7NDoG0Q3bWo2Gu1DsjwI5URAgnggmYoI4IThgx7DUjH1xnEOHDgXRtXNExFhW6xyEaBfy0xFCJGXgCslCiO4i0RFCJEWiI4RIikRHCJEUiY4QIikSHSFEUiQ6QoikSHSEEEmR6JQEa5XgieKiTZeshz8zsH0nvJc7QRl8rUX3kOiUBNoZaI+gUdP76tQCwaGl4csvv6wsEaI3kOiUAPP1ef7554PRljcZE6LfkOiUAKxJz58/HwzGaNzkM14/BimT92b+3e9+F+ZxE6Q51acqc/VeRty8naxP7/jJPNuwL1vHd+FDPS9m8OMc6+uvv66M3Gtnm7e96C8kOg2ILwq7cNoZiWCTihUFHetmS2Hd44b3Zv7rX/+a/e1vfws1HLrizZhrrt7LgJ8zthisz0Q3O2mbbQPYdJhvNMejIx1hsN8NXkD+mObFDNZxj/UH43gZ0d1uHDhwYNbx2d5bcoj+Q6LTgMnJyeBnbBcFE/Msbwdc3FyU2E7gi2MmY9hd+Asfihif2X6AyInz9WZe3nvZPHS8l7J99mZe3jcaUTKvZaIxrF9jv2cTTc6f74EommUG4zgrAsKCYHkQPMzlbX+i/5DoFIAIxBPPt0KeeRZiQUHZX/iNvJmhyDreexljMObx3DEQB4SFMSP2a8bhELH4z3/+EyI/f0wTTQzFLLqJx4ls7LMZpym1GhwkOg24ceNG1bGv3fCXnkjA3ptl6RsCdPny5ZB2pSYv+pgrc7F8ReAQJn7HREh8d4lPfyPRacCqVatCHcODvWijiKIIpCcUjdm/pW42YRB/4sSJjl58RDDeBhX4bBGQ4aMeQFSIVn7yk5+Ec/Xpm4kW0ZAJad54DFEPaZWJT1zTEv2DRKcB1DIo4FoUwgT8hW4VLiwuMIrHMaRYUOviMyP5WBDmgqV03s/ZPvt0z15WCNSfEEMM982qNfZ7tjtxpGqkT9y9svqUfw8a21CI9nffrE5k31/0HxKdAlDc9FEI861iRVZf2PUgdvbMznfffVdZeherndirhPPWaQSiwFtKiTxMUBGV2K+Z4jJ3pBjnzhV3sjg/i06IesyLGYGyceB3hfBY1MP3oTANbL9v375wTDs+YkeNh+1NlDgf0T/II1nUBGFENLj71I7IrhmIsCioP/3005UlotdRpCNKDellO+pnojxIdESpobDs60ui91F6JYRIiiIdIURSJDpCiKRIdIQQSZHoCCGSItERLcHTxP6J4m7Cw4SXLl2qzImyItERfQGCg8XGlStXKktEWZHoCCGSItERbYO2CexNT506FX5aP5XvnbJ1bMzbowJtD94aNU7d8rand4woh0ZS60Uj8vE9XXn7Et1BotPHxBeon+KLvZ28+uqrQWh47hTbDutSRwj27NkTGkAZY6KnyzrbEQkaS80alaeRERQTC86XXjDz4LHtGf/Tn/4UHAmxBKEJlW710dHR0LfFethrsH8m0V0kOqLtICrWpU4Lw+LFi8NFb149HppJzeMZ0zJvjUoXOhEMwmWNn+DtVdkWkZk3b15lyR04Hp7RBueDL3S3GlfFXSQ6ou3E9qaG+euQAsXRFlEQUY2N2YRomXiYuZi3V62FGdyzPftRalUeJDoiKeZNZG6CdJBbXQZRIT2y1MkmboNb9FMU8/pheyIl82GW+HQfiY7oCpbumPj8+9//DlFMPX9lc0okTZsLVgNCfKjpdKqWJYoh0RHJsMK2v5tldZrHHnsspF5EJL7Yy7qWhpnFhX/tMusyjhDhYGiixfLY4J2aEQLkXRFFeiQ6Ihlc7IcOHQp3s6xmg/0pyxhDEIhGeGupjWPpivAwzsRnltk46ZKN814wRAsRQqAoSltNh4kUbufOneFcECNeVuhFSaRBfjpiYOF5IkRprvUi0RqKdMRAwt2yjz76SFaoXUCiIwYSakA8P0RaJtKi9EoIkRRFOkKIpEh0hBBJkegIIZIi0RFCJEWiI4RIikRHDCw8q4Phlz2x7Ke5+u6wL+/PHM83g7WNcD48eW0T8BS2mZX1GhIdMfDEne3WilFUeLjwvT9zPN8s9JjR5MozReY5ZNCtTxc93fS9hkRHiAi8eHAhjA3HUkPzKk2svSgs9ZDoCNGAvOZQW0Yrhfdn3rx5c7Zt27Z7/JqB1MjSt7gDnrGDBw9W06l169aF5lWmeF2I0yt++lTROvMN1rcxJua7hURHlJr4YmLyF1snuHjxYvi5fv368LMe3/ve94JYmD/za6+9lr3yyiuz/JqBcwZL4Q4fPhz8oL2YvP7666HjnvF33nkneDwzNTIxQ1wQqSeffLK6f2xCSMEYI02kMx/vIsawEzl+/Pg9QpYKiY4oNSdPngxRg4d5lreL2CKVek4zZmG1wCT+q6++muXtjI3Hhg0bsomJicqSLNirLlmypDJXHESE2o8XST6zjLpQnCYiYO+//37XuuslOqLU1HISrOcwOFfiQrK5GfLminZEVOzvrbfeCh3tXtxInTzN1m8QFYQY72jbN59NrEm1wI7fzdQKJDpCRNB5zt2idkU77If6j6U3forvSjUDAkw6x7nG+yfF4vsQ8TCPwFpk1y3xkeiIUrNx48ZsaGioMncXXAK7CQLiX3FTD9Kca9euVSOodrN06dLCAmnG+IjP2bNnO1obq4VER5Qa6g68fM8LD8/RdPL9VVyIFF7t/V2Wllj9xcYNUiLvzxzP2+twKDjbRW4P/rUj2rD0yV5aCBSJuetFEZlj+LtZnAOCQ+G5G7fjJTqi9CA83MGxlKHdghMXkqmHcEESFQDCw12lEydOhPFf/vKX2a9//ets0aJFYRy8PzMXt58nAkFwwOouCJndYWoVzg9hQWDsO2DDyh0yflccg58mnpwDomjHZjsvSp1GJl5CiHCrnzteCFinUaQjxIBDhEPNiQgoBRIdIQYcCty8dyxVfUfplRAiKYp0hBBJkegIIZIi0RFCJEWiI4RIikRHiBl4uM4erGNq58Ny7If9FXUi7DTdPh+Jjhho7AKkLcA3TPK08Jo1a7rmOdPPSHTEQEO/Eg2ZtCn451RoEcDvxvdLifYg0REDC1EOKQZRTd6DcdhOePNza6K0FMzezGBY1NQoRbP1zIaU1G737t1Vh0RrAvW9VH654e1PmWJb03j7+HwxjvffJ0636tmrFv2ueUh0RKkhyrCL0Sbm2xF9mL8NjZCN4IK0Jkq2YVuW2YXMBWeNlZai8RkjsG+//TasA349b0O6f//+IH5sxzgCs3Xr1uAKyDJ+so4JDz+/+OKLakrIT9/JzrnhgEhHPuN2vl64cF88ffp0GGc9joew2O8cGGPy9qqM873sfJn4Pr7LvS4zGwhRWsbHx3li/p6J5a0ycyFP//a3v52euSArS2ozOjoaJs/MhTq9du3asL3/HMMyxt59993wM94P38VvOyMg0yMjI/d8R+ZZzngefjzvfA07H79/W8b3qPV7sX3mbT8XFOmIUtNpu9Jbt241NNfiLztRBWZZHiKfBQsWhO0x0aI2VK9p8je/+U3wJo73A35bohbbn2f58uXBa5lxg+jFIkAsOoDIKu98Y+L9G3yfevaqdKIT5ZglyFxSK5DoiIHFLqpaokMqMTw8HIQpD7arNZbHTJQQ0hjSJF8fKQrHm5qaCp9Jkzh3n4LNRB5hrFWK2KuSAjJvvzt+l0XFR6IjSk0n7UrtLzYugHk1oomJiWz+/PnZwoULZzkBGlxwXPhccEQNjSxDOec8F8EYIh7bn8ein/vvvz/c4kdkfF3Izm/evHm551sUjlHUXpXfIf7Lti4C2AiJjig1nbYr5a8zFzMvzPMiQCSBUyDLuXtlToCkM8BfdIrInAcXHqkWcAEarMv+LToB9sU+z58/X/M1OqyDc6GPiPjJPMsRFfCiwvn6t0twvpy/j6g43/gOVh6N7FX9Z8PExn4PdZkJkYQYeCiQcjnY5Au7BgXWGfGrrhMXalmf7eJ92HKKtAZFWNZhGZ/zCsSM2b6YfOE2PhbbT05OhvPjPCHe3s4373ziZZwL+/Tb++PHvwt/3EbIT0cIkRSlV0KIpEh0hBBJkegIIZIi0RFCJEWiI4RIikRHCJEUiY4QIikSHSFm4MldPGOK9g/F8OQuLQmiMRIdIWa4cOFCtmjRotBz5FsZioDg0NqAKZZojERHDDyIBg2Uzz//fLAo5bPvwxLtRaIjBp6LFy+GBkz8amiU5PPVq1cro3dSr7Vr12anTp26x97Topxjx44FfxlzNfQ+N0xFGi0HBYmOKDVcwJ2yKzXOnDkTuqqXLFlS7bAm3fJcv349+8c//pF9+OGHwUcGWwmEBCsLurFHRkbCMjyVESy8c+i8Zt2bN+9YhVqH+qAj0RGlBvsHoggP87VsIeYKRWPEwMzZzVYCj524oGzrAFGRCUoMyxApwzxn2mXH0etIdESpqWVE1axBVQzRCHgfGASFgrKNAUXmIgbuYNES+1RqdS8SHTGwkKIR0eBb7P2AEYvLly+HtKsZiIZIs4iEzp07F8y1JD53keiIUtNJu1JqLxSNEQYEwk/UZ2LnvWYgpTLxIY1r5hmgfkOiI0pNJ+1KKRaTBpEOxZBiQVxQzoPIxnsSIy7xy+mImszadNCR6IjSg/DwtK9FIe0QHCIOUiuKxlYc9nBMe2bnu+++qyytjXko80Qz6dmuXbuqNR0mXgmzc+fOytqDjexKhRBJUaQjhEiKREcIkRSJjhAiKRIdIURSJDpCiKRIdIQQSZHoCCGSItERQiRFoiPawptvvll9+papWa/huUDDpnyJew+JjmgJhAWBoV0AQytrVcB7Zs2aNS03TNYCwZEvcW8i0REtceTIkeyhhx4K7nm+h+mZZ54JvUssb6fLn+gD6L0Sohlu3rw5vXbt2ulz585VltRmfHx8eteuXdMjIyP0+oV5JuZnIqTKWnfWs2VMtj7T0NDQ9Mcff3zPclufMdax5Uyjo6OVPd+B/ftx5o14+3hbvqfflsm2Z9unnnpq+t133521D/+7ibeP9z8oKNLpYyz18bWWdtZcsOWc+TdU2FFv//79Ie1iGyKhRhw4cCBYRrA+E53bRE4Q+xLPiE62ffv27PDhw9X1scCg89u8iak7cQ44AjLOT+YZZ9q0aVOw0WCM/dEZbsZbpIne95iJY7O9pZC1fJT5PcfbD7JvskRHtMTChQsLiw5vVPC2oPX49ttvw0XvQagQmDwrijwfYo7FMYEUj7oTwoVtBZhlBtvgd+PHOAY1I4QLwWA5DoM2DnjuYGPqqeWjLN/ku0h0REvcunUrXFBFoPbzwAMPVObqM2/evHABm9VnbIpVC8TF3h6BGCIUQOTy+eefh3OIYRsEjlfI+GgQ0fJCAT56jMfr+SjLN/kuEh3RNOYrXEt0EInh4eGm0ziiACIFBMMu2FriY2KAqFlKxnlZpFMPEyTSIbbzE5EQ0Q3H5Nh8Z0sRSZXiSKcWRD/yTb6DREc0DSkCFyAOfHl3qCYmJrL58+cXjm4g7y0PdsGa+ORZiCIAgNC8+OKL1c+81QE4B6IcxCXGxuq9YcKsTTkHq0ex/zgSKoKJKeJDTafV2lqvIdERLUF0wYVM/cMLD0VbjM1ZnleDAS503mHFGzaBaIJtgJoOaZKPBDBS/+yzz0KthH16X2JAYCzq4kKmsMxbHYD14/dZWSrGO7QslfOFXb6DL7jzPREd4Fy3bt0aPheB/co3ucKM4oo+ZeYCDLe0+d8cTyxnvF1w+7fe/rm1bLe2PSy3bRifEaHqennnz21ng88ss2P5fTFNTk6Gfflb0/E6zBu2P5vi7+C/I7fFWZ912MdMpBVumfPTiJfFx/a/D9tXO/+flBV5JAtREl577bVs/fr1fR/5KL0SogSQwpEezqX+1atIdIQoATNpVfbYY4/VrH/1E0qvhBBJUaQjhEiKREcIkRSJjhAiKRIdIURSJDpCzNAJu1X2yRPPeS0ig4xERww0CAsCk9pudZCR6IiBRnar6ZHoiIGFKIdGTKKavIfy6FY30zBSpd27d1e9epgHGlJ9WpZnvfHSSy9Vx+N0K07rbL/9jERHlBrrBPcXZrvqJDwFTCpV1PkwtltFIDD/srSMn9hf+OiILvqhoaHqOGDDCggeXe92HthzHD9+vO9TOomOKDXYTnDhephneTtoxW41tk/lJ/YZnpGRkdDECYx7C9TY2yfPErUfkeiIUlPLWKue4dZcaIfdKhGLRWFYnnrw/PGpm3dbpIDtlw1CagUSHTGweAHIg2iknt2q1WMw8yI1IkUaHx+vjDbGzNltO/No7nfxkeiIUrNx48ZQE4lZvXp15VPztGK3yvrcZkcszEcZ4giMmo/fd606EqmaiQ/7bUfNqqxIdESp4WLmXVReeKiJtOvVLa3YrYIXGbbB8tTj60/snyLzypUrw/diff8QogkZdaF6x+x1JDqi9HCBEk0QCTC1811RluJQeyGiIb1hIvo5ffp0zaIuorBv375Z9RwEY3JyMjt//nzwcwYKyfg0M87+OY4ZxxPd8F0szbNxlvcz8tMRQiRFkY4QIikSHSFEUiQ6QoikSHSEEEmR6AghkiLREUIkRaIjhEiKREcIkRSJjhAiKRIdIURSJDpCiKRIdIQQSZHoCCGSItERQiRFoiOESIpERwiRFImOECIhWfb/TbIGRInCnXkAAAAASUVORK5CYII=)"
      ],
      "metadata": {
        "id": "hNgI_pKVri6E"
      }
    },
    {
      "cell_type": "code",
      "source": [
        "class Vertebrates:\n",
        "\n",
        "    \n",
        "    def __init__(self, age = 0, weight = 0, animal_is_alive = True):\n",
        "        # instance attributes\n",
        "        self.age = age\n",
        "        self.weight = weight\n",
        "        self.animal_is_alive = animal_is_alive\n",
        "\n",
        "class Invertebrates:\n",
        "\n",
        "    \n",
        "    def __init__(self, age = 0, weight = 0, animal_is_alive = True):\n",
        "        # instance attributes\n",
        "        self.age = age\n",
        "        self.weight = weight\n",
        "        self.animal_is_alive = animal_is_alive\n",
        "\n",
        "#### Sub class\n",
        "class Mammals(Vertebrates):\n",
        "    def vivipary(self):\n",
        "        print('i am mammal')\n",
        "\n",
        "\n",
        "class Fishes(Vertebrates):\n",
        "    def swim(self):\n",
        "        print('i can breathe in water')\n",
        "\n",
        "class birds(Vertebrates):\n",
        "    def fly(self):\n",
        "        print('i have wings')\n",
        "\n",
        "class reptiles(Vertebrates):\n",
        "    def climb(self):\n",
        "        print('I am cold blooded animal ')\n",
        "\n",
        "class Anthropods(Invertebrates):\n",
        "    def exoskelton(self):\n",
        "        print('i amstrong like an Iron Man')\n",
        "\n",
        "class Insects (Anthropods):\n",
        "    def Malaria(self):\n",
        "        print('little but dangerous')\n",
        "\n",
        "class crustacean(Anthropods):\n",
        "    def biramous (self):\n",
        "        print('two antena ,two eye')\n",
        "\n",
        "##### sub class \n",
        "\n",
        "class Dog(Mammals):\n",
        "    def bark(self,thisManyTimes=3):\n",
        "        print('\\n')\n",
        "        for i in range(thisManyTimes):\n",
        "            print('hop', end=' ')\n",
        "        print('\\n')\n",
        "\n",
        "class Cat(Mammals):\n",
        "    def meow(self,thisManyTimes=3):\n",
        "        print('\\n')\n",
        "        for i in range(thisManyTimes):\n",
        "            print('hop', end=' ')\n",
        "        print('\\n')\n",
        "\n",
        "class Lion(Mammals):\n",
        "    def roar(self,thisManyTimes=3):\n",
        "        print('\\n')\n",
        "        for i in range(thisManyTimes):\n",
        "            print('hop', end=' ')\n",
        "        print('\\n')\n",
        "\n",
        "class eagle(birds):\n",
        "    def hawk(self):\n",
        "        print('we are queen of sky.')\n",
        "\n",
        "\n",
        "class crocodile(reptiles):\n",
        "    def bite(self):\n",
        "        print('I had strongest bite in all animal ')\n",
        "\n",
        "class lizard(reptiles):\n",
        "    def tail(self):\n",
        "        print('I had ability to break off part of their tails when a predator grabs it ')\n",
        "\n",
        "class turtle(reptiles):\n",
        "    def water(self):\n",
        "        print('I am different from tortiose ')\n",
        "\n",
        "\n",
        "class Butterfly (Insects):\n",
        "    def beautifull(self):\n",
        "        print('sweet honey')\n",
        "\n",
        "class cockroach (Insects):\n",
        "    def unhygine(self):\n",
        "        print('use black hit')\n",
        "\n",
        "class ants (Insects):\n",
        "    def unity(self):\n",
        "        print('learn from us')\n",
        "\n",
        "class crabs (crustacean):\n",
        "    def seafood (self):\n",
        "        print('delacious')\n"
      ],
      "metadata": {
        "id": "cLwNUiEtq_Ti"
      },
      "execution_count": 1,
      "outputs": []
    },
    {
      "cell_type": "markdown",
      "source": [
        ""
      ],
      "metadata": {
        "id": "krXC4x1fTkgn"
      }
    },
    {
      "cell_type": "markdown",
      "source": [
        "## Scope of Variable\n",
        "\n",
        "What is the scope of a variable? Define the different types of variables based on scope.\n",
        "\n",
        "\n",
        "Instructions:\n",
        "- Enter your solution in the cell block below only.\n",
        "- Do not edit anything else apart from 'YOUR ANSWER HERE' for your solutio"
      ],
      "metadata": {
        "id": "qcYz80KnTlQB"
      }
    },
    {
      "cell_type": "markdown",
      "metadata": {
        "deletable": false,
        "nbgrader": {
          "cell_type": "markdown",
          "checksum": "02ea14196d9dbcd6552525e82e0af08b",
          "grade": true,
          "grade_id": "A3",
          "locked": false,
          "points": 2,
          "schema_version": 3,
          "solution": true,
          "task": false
        },
        "id": "gLrdXZnNqS92"
      },
      "source": [
        "##**Scope of Varriables :**\n",
        "\n",
        "Variables can only reach the area in which they are defined, which is called scope.It is an extent of the program code within which the variable can be accessed or declared or worked with. \n",
        "\n",
        "There are mainly two types of variable scopes: \n",
        "\n",
        "**1.Local Variables:**\n",
        "\n",
        "*     Local variables do not exist outside the block in which they are declared, i.e. they can not be accessed or used outside that block.\n",
        "*     Declaring local variables: Local variables are declared inside a block.\n",
        "\n",
        "**2.Global Variables:**\n",
        "\n",
        "*   They  accessed from any part of the program.\n",
        "*   They are available through out the life time of a program.\n",
        "\n",
        "*   They are declared at the top of the program outside all of the functions or blocks.\n",
        "\n",
        "\n"
      ]
    },
    {
      "cell_type": "code",
      "execution_count": null,
      "metadata": {
        "deletable": false,
        "editable": false,
        "nbgrader": {
          "cell_type": "code",
          "checksum": "f88b0eebd4d316703cf56b4c48a72efa",
          "grade": false,
          "grade_id": "cell-f0e0b9c35862e705",
          "locked": true,
          "schema_version": 3,
          "solution": false,
          "task": false
        },
        "id": "QOmZpaNzqS93"
      },
      "outputs": [],
      "source": [
        ""
      ]
    },
    {
      "cell_type": "markdown",
      "metadata": {
        "deletable": false,
        "editable": false,
        "nbgrader": {
          "cell_type": "markdown",
          "checksum": "2fe746f414d8f9941618edebe04e1441",
          "grade": false,
          "grade_id": "cell-6975b5c3cd3b6be9",
          "locked": true,
          "schema_version": 3,
          "solution": false,
          "task": false
        },
        "id": "mbFRfpZLqS94"
      },
      "source": [
        "## Numpy Arrays\n",
        "\n",
        "Answer the following sub-questions using the following instructions;\n",
        "\n",
        "- Enter your solution in the cell block below only.\n",
        "- Do not edit anything else apart from 'YOUR ANSWER HERE' for your solution"
      ]
    },
    {
      "cell_type": "code",
      "execution_count": null,
      "metadata": {
        "ExecuteTime": {
          "end_time": "2021-12-06T10:34:33.878130Z",
          "start_time": "2021-12-06T10:34:33.861994Z"
        },
        "id": "7eHl_BWQqS95"
      },
      "outputs": [],
      "source": [
        "#Run this code cell before proceeding to answer the questions below\n",
        "import numpy as np"
      ]
    },
    {
      "cell_type": "markdown",
      "metadata": {
        "deletable": false,
        "editable": false,
        "nbgrader": {
          "cell_type": "markdown",
          "checksum": "9c9d26ed64b9610b81a1f9413450f0ab",
          "grade": false,
          "grade_id": "cell-ca20f62538f5d9fe",
          "locked": true,
          "schema_version": 3,
          "solution": false,
          "task": false
        },
        "id": "2_YtwhkjqS96"
      },
      "source": [
        "### Create Null vector of size 10"
      ]
    },
    {
      "cell_type": "code",
      "execution_count": null,
      "metadata": {
        "deletable": false,
        "nbgrader": {
          "cell_type": "code",
          "checksum": "1f90fd86ee8801bb6655ab6654691d2a",
          "grade": false,
          "grade_id": "cell-618c4367ee98ea41",
          "locked": false,
          "schema_version": 3,
          "solution": true,
          "task": false
        },
        "id": "5qdnFuwsqS96"
      },
      "outputs": [],
      "source": [
        "def ans1():\n",
        "    '''\n",
        "    Should return a numpy array ONLY\n",
        "    '''\n",
        "    # YOUR CODE HERE\n",
        "    return np.zeros(10)\n",
        "ans1()\n",
        "    # raise NotImplementedError()"
      ]
    },
    {
      "cell_type": "markdown",
      "metadata": {
        "deletable": false,
        "editable": false,
        "nbgrader": {
          "cell_type": "markdown",
          "checksum": "b90a55d8e9c19bad2a69eb1b7ddeb734",
          "grade": false,
          "grade_id": "cell-c67370fdca58ea02",
          "locked": true,
          "schema_version": 3,
          "solution": false,
          "task": false
        },
        "id": "18LFveWoqS98"
      },
      "source": [
        "### Create a 3x3 matrix with values ranging from 0-8"
      ]
    },
    {
      "cell_type": "code",
      "execution_count": null,
      "metadata": {
        "deletable": false,
        "nbgrader": {
          "cell_type": "code",
          "checksum": "63d7cd54daac701c9c261848ac9b987f",
          "grade": false,
          "grade_id": "cell-6712bc7acd0447cd",
          "locked": false,
          "schema_version": 3,
          "solution": true,
          "task": false
        },
        "id": "iHF9pnu8qS99"
      },
      "outputs": [],
      "source": [
        "def ans2():\n",
        "    '''\n",
        "    Should return a numpy array ONLY\n",
        "    '''\n",
        "    # YOUR CODE HERE\n",
        "    return np.arange(0,9).reshape(3,3)\n",
        "    # raise NotImplementedError()\n",
        "ans2()"
      ]
    },
    {
      "cell_type": "code",
      "execution_count": null,
      "metadata": {
        "deletable": false,
        "editable": false,
        "nbgrader": {
          "cell_type": "code",
          "checksum": "be87a8e64fa7142fea35fb8519422502",
          "grade": true,
          "grade_id": "cell-f2355a3832688a18",
          "locked": true,
          "points": 1,
          "schema_version": 3,
          "solution": false,
          "task": false
        },
        "id": "TO-u8JPuqS99"
      },
      "outputs": [],
      "source": [
        ""
      ]
    },
    {
      "cell_type": "code",
      "execution_count": null,
      "metadata": {
        "deletable": false,
        "editable": false,
        "nbgrader": {
          "cell_type": "code",
          "checksum": "c327b494e862627b9795e6830bb4d8cf",
          "grade": false,
          "grade_id": "cell-1ed0df92c93f0c46",
          "locked": true,
          "schema_version": 3,
          "solution": false,
          "task": false
        },
        "id": "1Kh90wLYqS99"
      },
      "outputs": [],
      "source": [
        ""
      ]
    },
    {
      "cell_type": "markdown",
      "metadata": {
        "deletable": false,
        "editable": false,
        "nbgrader": {
          "cell_type": "markdown",
          "checksum": "56c54b12424f69a9a9f988afd5ac9ec3",
          "grade": false,
          "grade_id": "cell-bf0eceaacf2d2c63",
          "locked": true,
          "schema_version": 3,
          "solution": false,
          "task": false
        },
        "id": "gy3zBBq_qS9-"
      },
      "source": [
        "### Find indices of non-zero elements from the numpy array - `[1,2,0,0,4,0]`"
      ]
    },
    {
      "cell_type": "code",
      "execution_count": null,
      "metadata": {
        "deletable": false,
        "nbgrader": {
          "cell_type": "code",
          "checksum": "df40ea823f796d93961a87f22f6d327b",
          "grade": false,
          "grade_id": "cell-419c4b764ad5d1b0",
          "locked": false,
          "schema_version": 3,
          "solution": true,
          "task": false
        },
        "id": "rEZ7LbPAqS9-"
      },
      "outputs": [],
      "source": [
        "def ans3():\n",
        "    '''\n",
        "    Should return a numpy array ONLY\n",
        "    '''\n",
        "    # YOUR CODE HERE\n",
        "    ar = [1,2,0,0,4,0]\n",
        "    e = np.array(ar)\n",
        "    return np.where (e == 0)\n",
        "ans3()\n",
        "    # raise NotImplementedError()"
      ]
    },
    {
      "cell_type": "code",
      "execution_count": null,
      "metadata": {
        "deletable": false,
        "editable": false,
        "nbgrader": {
          "cell_type": "code",
          "checksum": "143826e1749240a7509ba80f3e8e0d46",
          "grade": false,
          "grade_id": "cell-2c2b1a45000cfc5e",
          "locked": true,
          "schema_version": 3,
          "solution": false,
          "task": false
        },
        "id": "ggRZhfWjqS9_"
      },
      "outputs": [],
      "source": [
        ""
      ]
    },
    {
      "cell_type": "markdown",
      "metadata": {
        "deletable": false,
        "editable": false,
        "nbgrader": {
          "cell_type": "markdown",
          "checksum": "0e85974331755ae001ffceb18b6b9ff2",
          "grade": false,
          "grade_id": "cell-dd660b3937d3ffb8",
          "locked": true,
          "schema_version": 3,
          "solution": false,
          "task": false
        },
        "id": "W4OEAuIjqS9_"
      },
      "source": [
        "### Create a random vector of size 30 and find the mean value"
      ]
    },
    {
      "cell_type": "code",
      "execution_count": null,
      "metadata": {
        "deletable": false,
        "nbgrader": {
          "cell_type": "code",
          "checksum": "85d5299e49704f69dec222d598c51294",
          "grade": false,
          "grade_id": "cell-611d31692cc9c71a",
          "locked": false,
          "schema_version": 3,
          "solution": true,
          "task": false
        },
        "id": "ChdU02jBqS-A"
      },
      "outputs": [],
      "source": [
        "def ans4():\n",
        "    '''\n",
        "    Should return a tuple = (random array,mean of random array)\n",
        "    '''\n",
        "    # YOUR CODE HERE\n",
        "    return np.arange(30).mean()\n",
        "    # raise NotImplementedError()\n",
        "ans4()"
      ]
    },
    {
      "cell_type": "code",
      "execution_count": null,
      "metadata": {
        "deletable": false,
        "editable": false,
        "nbgrader": {
          "cell_type": "code",
          "checksum": "e965e4f881d680c5ba06bd38453d6817",
          "grade": true,
          "grade_id": "cell-501e8ef476fd5231",
          "locked": true,
          "points": 1,
          "schema_version": 3,
          "solution": false,
          "task": false
        },
        "id": "1CUs8bdEqS-A"
      },
      "outputs": [],
      "source": [
        ""
      ]
    },
    {
      "cell_type": "code",
      "execution_count": null,
      "metadata": {
        "deletable": false,
        "editable": false,
        "nbgrader": {
          "cell_type": "code",
          "checksum": "3fe3874e914d507ab14ecf8d27383781",
          "grade": false,
          "grade_id": "cell-8894756e39562b4d",
          "locked": true,
          "schema_version": 3,
          "solution": false,
          "task": false
        },
        "id": "3t0XBDyuqS-B"
      },
      "outputs": [],
      "source": [
        ""
      ]
    },
    {
      "cell_type": "markdown",
      "metadata": {
        "deletable": false,
        "editable": false,
        "nbgrader": {
          "cell_type": "markdown",
          "checksum": "fde84b3837158be3d2a4fa3dfba99ac8",
          "grade": false,
          "grade_id": "cell-9941543a466868d4",
          "locked": true,
          "schema_version": 3,
          "solution": false,
          "task": false
        },
        "id": "9uWMXzBhqS-B"
      },
      "source": [
        "## Pandas\n",
        "\n",
        "Answer the following sub-questions using the following instructions;\n",
        "\n",
        "- Enter your solution in the cell block below only.\n",
        "- Do not edit anything else apart from 'YOUR ANSWER HERE' or 'YOUR CODE HERE' for your solution"
      ]
    },
    {
      "cell_type": "code",
      "execution_count": null,
      "metadata": {
        "ExecuteTime": {
          "end_time": "2021-12-06T09:51:46.441927Z",
          "start_time": "2021-12-06T09:51:31.477908Z"
        },
        "id": "17KD4Tz3qS-C"
      },
      "outputs": [],
      "source": [
        "#Run this cell before proceeding with the below questions;\n",
        "\n",
        "import pandas as pd"
      ]
    },
    {
      "cell_type": "markdown",
      "metadata": {
        "deletable": false,
        "editable": false,
        "nbgrader": {
          "cell_type": "markdown",
          "checksum": "6351e4f138aa8b886d9ebb445af68dd3",
          "grade": false,
          "grade_id": "cell-31d62f752cedbe03",
          "locked": true,
          "schema_version": 3,
          "solution": false,
          "task": false
        },
        "id": "pFY6gCybqS-C"
      },
      "source": [
        "### Create a dataframe with columns and values as follows;\n",
        "`\n",
        "'X':[78,85,96,80,86], 'Y':[84,94,89,83,86],'Z':[86,97,96,72,83]\n",
        "`"
      ]
    },
    {
      "cell_type": "code",
      "source": [
        "def ans5():\n",
        "    x = [78,85,96,80,86]\n",
        "    y = [84,94,89,83,86]\n",
        "    z = [86,97,96,72,83]\n",
        "    n =[\"X\",\"Y\",\"Z\"]\n",
        "    low = {'X':x,'Y':y,'Z':z}\n",
        "    '''\n",
        "    x,y,z are three lists which contain the column values\n",
        "    Should return a dataframe with the passed lists as columns and X,Y,Z as column names\n",
        "    '''\n",
        "    # YOUR CODE HERE\n",
        "    \n",
        "    \n",
        "    # YOUR CODE HERE\n",
        "    return pd.DataFrame(low)\n",
        "ans5()"
      ],
      "metadata": {
        "id": "FHLSroAGLxSx"
      },
      "execution_count": null,
      "outputs": []
    },
    {
      "cell_type": "code",
      "execution_count": null,
      "metadata": {
        "deletable": false,
        "editable": false,
        "nbgrader": {
          "cell_type": "code",
          "checksum": "03f59d04fb4e1526282f04a837573477",
          "grade": false,
          "grade_id": "cell-d625b4d2b7a54433",
          "locked": true,
          "schema_version": 3,
          "solution": false,
          "task": false
        },
        "id": "IyATSe-KqS-E"
      },
      "outputs": [],
      "source": [
        ""
      ]
    },
    {
      "cell_type": "markdown",
      "metadata": {
        "deletable": false,
        "editable": false,
        "nbgrader": {
          "cell_type": "markdown",
          "checksum": "7a43f5fd1e1412f5d64e523cf17e7854",
          "grade": false,
          "grade_id": "cell-af34ca04850aafdb",
          "locked": true,
          "schema_version": 3,
          "solution": false,
          "task": false
        },
        "id": "oIxMqqoHqS-E"
      },
      "source": [
        "### Indexing Dataframe\n",
        "\n",
        "Create a function to slice the dataframe using three parameters;\\\n",
        "`\n",
        "m: rows\n",
        "n: columns\n",
        "df: dataframe\n",
        "`"
      ]
    },
    {
      "cell_type": "code",
      "execution_count": null,
      "metadata": {
        "deletable": false,
        "nbgrader": {
          "cell_type": "code",
          "checksum": "00c4546a05b1c809569c030c6dc74f85",
          "grade": false,
          "grade_id": "cell-b45c37ac15b2aed2",
          "locked": false,
          "schema_version": 3,
          "solution": true,
          "task": false
        },
        "id": "fXkgimIVqS-E"
      },
      "outputs": [],
      "source": [
        "def ans6(m,n,df):\n",
        "    '''\n",
        "    m: List containing the rows to be sliced\n",
        "    n: List containing the names of the columns to be indexed\n",
        "    df: Dataframe to be sliced using m,n lists\n",
        "    Should ONLY return the sliced rows and columns \n",
        "    '''\n",
        "    # YOUR CODE HERE\n",
        "    raise NotImplementedError()"
      ]
    },
    {
      "cell_type": "code",
      "execution_count": null,
      "metadata": {
        "ExecuteTime": {
          "end_time": "2021-12-06T10:15:58.008293Z",
          "start_time": "2021-12-06T10:15:57.914618Z"
        },
        "deletable": false,
        "editable": false,
        "nbgrader": {
          "cell_type": "code",
          "checksum": "1d444fedf640bd9e7dfc608c3516e475",
          "grade": true,
          "grade_id": "cell-e4abe934c49eb7b0",
          "locked": true,
          "points": 2,
          "schema_version": 3,
          "solution": false,
          "task": false
        },
        "id": "Kh4TpJ_yqS-F"
      },
      "outputs": [],
      "source": [
        "m = [97,45,34,67,23,4,367,98]\n",
        "n =[\"a\",\"b\",\"c\",\"d\",\"e\",\"k\",\"g\",\"h\"]\n",
        "lol = {'Name':n,'Marks':m}\n",
        "lol\n",
        "df = pd.DataFrame(lol)\n",
        "df"
      ]
    },
    {
      "cell_type": "markdown",
      "metadata": {
        "deletable": false,
        "editable": false,
        "nbgrader": {
          "cell_type": "markdown",
          "checksum": "cd2b5c67a45db4d78b0850460bfd5f01",
          "grade": false,
          "grade_id": "cell-dc4ec7952bf6862e",
          "locked": true,
          "schema_version": 3,
          "solution": false,
          "task": false
        },
        "id": "3cDoEyOkqS-F"
      },
      "source": [
        "### Filtering Data Frames\n",
        "\n",
        "Write examples, one each for filtering, sorting and grouping using different columns of a dataframe"
      ]
    },
    {
      "cell_type": "code",
      "source": [
        "Tiger = {'Company': ['Toyota', 'Honda', 'BMV', 'Audi'], 'Price': [23845, 17995, 135925 , 71400]}\n",
        "Cow = {'Company': ['Toyota', 'Honda', 'BMV', 'Audi'], 'Horsepower': [141, 80, 182 , 160]}\n",
        "elephant = pd.DataFrame(Tiger)\n",
        "ox = pd.DataFrame(Cow)\n",
        "tigress = pd.merge(elephant ,ox)\n",
        "print(tigress)"
      ],
      "metadata": {
        "id": "kOOqHeP35oMy"
      },
      "execution_count": null,
      "outputs": []
    },
    {
      "cell_type": "code",
      "execution_count": null,
      "metadata": {
        "deletable": false,
        "nbgrader": {
          "cell_type": "code",
          "checksum": "7182f35170c97bfae0897f461175d3f4",
          "grade": true,
          "grade_id": "cell-f4608269e2cde66e",
          "locked": false,
          "points": 1,
          "schema_version": 3,
          "solution": true,
          "task": false
        },
        "id": "7wQ3eCtEqS-F"
      },
      "outputs": [],
      "source": [
        "# YOUR CODE HERE\n",
        "j = tigress.groupby('Price').mean()# groupingon Price\n",
        "print(j)"
      ]
    },
    {
      "cell_type": "code",
      "execution_count": null,
      "metadata": {
        "deletable": false,
        "nbgrader": {
          "cell_type": "code",
          "checksum": "1180cbd82e800b79d0ba11d44a88c5c1",
          "grade": true,
          "grade_id": "cell-bf80ca61256a7d56",
          "locked": false,
          "points": 1,
          "schema_version": 3,
          "solution": true,
          "task": false
        },
        "id": "GqDp83PMqS-G"
      },
      "outputs": [],
      "source": [
        "# YOUR CODE HERE\n",
        "rat = tigress[(tigress.Horsepower > 80)] # Filter on Horsepower\n",
        "print(rat)"
      ]
    },
    {
      "cell_type": "code",
      "execution_count": null,
      "metadata": {
        "deletable": false,
        "nbgrader": {
          "cell_type": "code",
          "checksum": "a151dd78b2ea79abb8e6a024bc3d1cb8",
          "grade": true,
          "grade_id": "cell-46242ef442a1ce55",
          "locked": false,
          "points": 1,
          "schema_version": 3,
          "solution": true,
          "task": false
        },
        "id": "9s75qdHjqS-G"
      },
      "outputs": [],
      "source": [
        "# YOUR CODE HERE\n",
        "tigress.sort_values(by = ['Price']) #sort"
      ]
    },
    {
      "cell_type": "markdown",
      "metadata": {
        "deletable": false,
        "editable": false,
        "nbgrader": {
          "cell_type": "markdown",
          "checksum": "3965480947dc728a2d94c658849ae735",
          "grade": false,
          "grade_id": "cell-9cc6b584a5dfc2dc",
          "locked": true,
          "schema_version": 3,
          "solution": false,
          "task": false
        },
        "id": "Nd12n6J0qS-H"
      },
      "source": [
        "### Joining two data frames\n",
        "\n",
        "Create two dataframes and join them using the different methods available in pandas"
      ]
    },
    {
      "cell_type": "code",
      "execution_count": null,
      "metadata": {
        "deletable": false,
        "nbgrader": {
          "cell_type": "code",
          "checksum": "98c693b38159c25ea9bcdcc6c9382241",
          "grade": true,
          "grade_id": "cell-060d977d59cc13cf",
          "locked": false,
          "points": 1,
          "schema_version": 3,
          "solution": true,
          "task": false
        },
        "id": "E3R9X90TqS-H"
      },
      "outputs": [],
      "source": [
        "# YOUR CODE HERE\n",
        "Car_Price = {'Company': ['Toyota', 'Honda', 'BMV', 'Audi'], 'Price': [23845, 17995, 135925 , 71400]}\n",
        "car_Horsepower = {'Company': ['Toyota', 'Honda', 'BMV', 'Audi'], 'Horsepower': [141, 80, 182 , 160]}\n",
        "d1 = pd.DataFrame(Car_Price,index=[1,2,3,4])\n",
        "print(d1,\"\\n\",\"\\n\")\n",
        "d2 = pd.DataFrame(car_Horsepower,index=[1,2,3,4])\n",
        "print(d2,\"\\n\",\"\\n\")\n",
        "# Method 1\n",
        "d3 = pd.merge(d1,d2)\n",
        "print(d3,\"\\n\",\"\\n\")\n",
        "# Method 2\n",
        "aalu = [d1,d2]\n",
        "bike = pd.concat(aalu, keys=[\"Maruti\", \"Farrari\"])\n",
        "print(bike,\"\\n\",\"\\n\")\n",
        "# Method 3\n",
        "cycle = pd.concat([d1, d2], axis=1)\n",
        "print(cycle,\"\\n\",\"\\n\")\n",
        "d4 = d3.T # Transpose\n",
        "# Method 4\n",
        "Horse = pd.concat([d1, d4], axis=1, join=\"outer\")\n",
        "print(Horse,\"\\n\",\"\\n\")"
      ]
    },
    {
      "cell_type": "code",
      "source": [
        ""
      ],
      "metadata": {
        "id": "1kzSgmuXv9Fn"
      },
      "execution_count": null,
      "outputs": []
    },
    {
      "cell_type": "markdown",
      "metadata": {
        "deletable": false,
        "editable": false,
        "nbgrader": {
          "cell_type": "markdown",
          "checksum": "91147b2ed9902f27ab2d7519ebef2eba",
          "grade": false,
          "grade_id": "cell-c4cc993b7f237785",
          "locked": true,
          "schema_version": 3,
          "solution": false,
          "task": false
        },
        "id": "f5lZcT91qS-I"
      },
      "source": [
        "### Data Cleaning\n",
        "\n",
        "Create a dataframe with null values and perform the following operations on it;\n"
      ]
    },
    {
      "cell_type": "markdown",
      "metadata": {
        "deletable": false,
        "editable": false,
        "nbgrader": {
          "cell_type": "markdown",
          "checksum": "b1a0e30219ff76a9ef0b1544a0274371",
          "grade": false,
          "grade_id": "cell-0f9227d4448ac25e",
          "locked": true,
          "schema_version": 3,
          "solution": false,
          "task": false
        },
        "id": "J1biwxaSqS-I"
      },
      "source": [
        "- Clear the null values completely"
      ]
    },
    {
      "cell_type": "code",
      "execution_count": null,
      "metadata": {
        "deletable": false,
        "nbgrader": {
          "cell_type": "code",
          "checksum": "d536f98f1cc724b8e903773792926f65",
          "grade": true,
          "grade_id": "cell-5fdbc586e3f84431",
          "locked": false,
          "points": 1,
          "schema_version": 3,
          "solution": true,
          "task": false
        },
        "id": "yDwiTziCqS-J"
      },
      "outputs": [],
      "source": [
        "# YOUR CODE HERE\n",
        "import pandas as pd\n",
        "import numpy as np\n",
        "\n",
        "potato = {'Banana':  [1,2,3,4,5,np.nan,6,7,np.nan,np.nan,8,9,10,np.nan],\n",
        "        'Orange': [11,12,np.nan,13,14,np.nan,15,16,np.nan,np.nan,17,np.nan,19,np.nan],\n",
        "        'Watermellon': [20,21,22,23,np.nan,24,np.nan,26,27,np.nan,np.nan,28,29,30]\n",
        "       }\n",
        "pizza = pd.DataFrame(potato)\n",
        "\n",
        "print (pizza)\n",
        "\n",
        "almond = pizza.fillna(\"Maggie\", inplace = True)\n",
        "df1"
      ]
    },
    {
      "cell_type": "markdown",
      "metadata": {
        "deletable": false,
        "editable": false,
        "nbgrader": {
          "cell_type": "markdown",
          "checksum": "a4a6319f9eea14a73a48f79f78854885",
          "grade": false,
          "grade_id": "cell-ff9a4445bc366cca",
          "locked": true,
          "schema_version": 3,
          "solution": false,
          "task": false
        },
        "id": "PAcf8-QVqS-J"
      },
      "source": [
        "- Replace the null values with the mean of the column"
      ]
    },
    {
      "cell_type": "code",
      "execution_count": null,
      "metadata": {
        "deletable": false,
        "nbgrader": {
          "cell_type": "code",
          "checksum": "1f4ea6d4c1142b5d411799ddc9ba5339",
          "grade": true,
          "grade_id": "cell-2a62f236010e09e3",
          "locked": false,
          "points": 1,
          "schema_version": 3,
          "solution": true,
          "task": false
        },
        "id": "_INnB1OZqS-J"
      },
      "outputs": [],
      "source": [
        "# YOUR CODE HERE\n",
        "\n",
        "potato = {'Banana':  [1,2,3,4,5,np.nan,6,7,np.nan,np.nan,8,9,10,np.nan],\n",
        "        'Orange': [11,12,np.nan,13,14,np.nan,15,16,np.nan,np.nan,17,np.nan,19,np.nan],\n",
        "        'Watermellon': [20,21,22,23,np.nan,24,np.nan,26,27,np.nan,np.nan,28,29,30]\n",
        "       }\n",
        "burger = pd.DataFrame(potato)\n",
        "\n",
        "print(burger)\n",
        "\n",
        "jaljera=burger.mean()\n",
        "print(jaljera)\n",
        "\n",
        "Sandwicth = burger.fillna(jaljera, inplace = True)\n",
        "burger"
      ]
    }
  ],
  "metadata": {
    "kernelspec": {
      "display_name": "Python 3 (ipykernel)",
      "language": "python",
      "name": "python3"
    },
    "language_info": {
      "codemirror_mode": {
        "name": "ipython",
        "version": 3
      },
      "file_extension": ".py",
      "mimetype": "text/x-python",
      "name": "python",
      "nbconvert_exporter": "python",
      "pygments_lexer": "ipython3",
      "version": "3.9.1"
    },
    "toc": {
      "base_numbering": 1,
      "nav_menu": {},
      "number_sections": true,
      "sideBar": true,
      "skip_h1_title": false,
      "title_cell": "Table of Contents",
      "title_sidebar": "Contents",
      "toc_cell": false,
      "toc_position": {},
      "toc_section_display": true,
      "toc_window_display": false
    },
    "varInspector": {
      "cols": {
        "lenName": 16,
        "lenType": 16,
        "lenVar": 40
      },
      "kernels_config": {
        "python": {
          "delete_cmd_postfix": "",
          "delete_cmd_prefix": "del ",
          "library": "var_list.py",
          "varRefreshCmd": "print(var_dic_list())"
        },
        "r": {
          "delete_cmd_postfix": ") ",
          "delete_cmd_prefix": "rm(",
          "library": "var_list.r",
          "varRefreshCmd": "cat(var_dic_list()) "
        }
      },
      "types_to_exclude": [
        "module",
        "function",
        "builtin_function_or_method",
        "instance",
        "_Feature"
      ],
      "window_display": false
    },
    "colab": {
      "name": "Mohit_PW3-A1.ipynb",
      "provenance": [],
      "collapsed_sections": [
        "mbFRfpZLqS94",
        "2_YtwhkjqS96",
        "18LFveWoqS98",
        "gy3zBBq_qS9-",
        "W4OEAuIjqS9_",
        "9uWMXzBhqS-B",
        "pFY6gCybqS-C",
        "oIxMqqoHqS-E",
        "3cDoEyOkqS-F",
        "Nd12n6J0qS-H",
        "f5lZcT91qS-I"
      ]
    }
  },
  "nbformat": 4,
  "nbformat_minor": 0
}