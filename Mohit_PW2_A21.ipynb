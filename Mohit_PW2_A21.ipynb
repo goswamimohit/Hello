{
  "nbformat": 4,
  "nbformat_minor": 0,
  "metadata": {
    "kernelspec": {
      "display_name": "Python 3 (ipykernel)",
      "language": "python",
      "name": "python3"
    },
    "language_info": {
      "codemirror_mode": {
        "name": "ipython",
        "version": 3
      },
      "file_extension": ".py",
      "mimetype": "text/x-python",
      "name": "python",
      "nbconvert_exporter": "python",
      "pygments_lexer": "ipython3",
      "version": "3.9.1"
    },
    "toc": {
      "base_numbering": 1,
      "nav_menu": {},
      "number_sections": true,
      "sideBar": true,
      "skip_h1_title": false,
      "title_cell": "Table of Contents",
      "title_sidebar": "Contents",
      "toc_cell": false,
      "toc_position": {},
      "toc_section_display": true,
      "toc_window_display": false
    },
    "varInspector": {
      "cols": {
        "lenName": 16,
        "lenType": 16,
        "lenVar": 40
      },
      "kernels_config": {
        "python": {
          "delete_cmd_postfix": "",
          "delete_cmd_prefix": "del ",
          "library": "var_list.py",
          "varRefreshCmd": "print(var_dic_list())"
        },
        "r": {
          "delete_cmd_postfix": ") ",
          "delete_cmd_prefix": "rm(",
          "library": "var_list.r",
          "varRefreshCmd": "cat(var_dic_list()) "
        }
      },
      "types_to_exclude": [
        "module",
        "function",
        "builtin_function_or_method",
        "instance",
        "_Feature"
      ],
      "window_display": false
    },
    "colab": {
      "name": "Mohit_PW2-A21.ipynb",
      "provenance": [],
      "collapsed_sections": []
    }
  },
  "cells": [
    {
      "cell_type": "markdown",
      "metadata": {
        "deletable": false,
        "editable": false,
        "nbgrader": {
          "cell_type": "markdown",
          "checksum": "5d28e81fc60c746ecd05d524269b9275",
          "grade": false,
          "grade_id": "cell-0a1cd97d29171e27",
          "locked": true,
          "schema_version": 3,
          "solution": false,
          "task": false
        },
        "id": "uDQ29t60aolR"
      },
      "source": [
        "# Rules:\n",
        "    1. Follow the given instructions strictly as the assignment will be automatically rejected if not done so.\n",
        "    2. After you are done answering the questions, save the notebook in .ipynb format and rename it as so;\n",
        "        \n",
        "        <<Your name as visible on 'My Courses' page>>_PW2-A1.ipynb\n",
        "        \n",
        "    3. After renaming the file as above submit onto the platform."
      ]
    },
    {
      "cell_type": "markdown",
      "metadata": {
        "deletable": false,
        "editable": false,
        "nbgrader": {
          "cell_type": "markdown",
          "checksum": "c3e759877055ca3f22eccc6bb26a2db9",
          "grade": false,
          "grade_id": "cell-39806162dd625703",
          "locked": true,
          "schema_version": 3,
          "solution": false,
          "task": false
        },
        "id": "ZvsmqDQSaolW"
      },
      "source": [
        "# Python W2 - Assignment 01"
      ]
    },
    {
      "cell_type": "markdown",
      "metadata": {
        "deletable": false,
        "editable": false,
        "nbgrader": {
          "cell_type": "markdown",
          "checksum": "826356eed441591b2d82f7e2fbed11df",
          "grade": false,
          "grade_id": "Q1",
          "locked": true,
          "schema_version": 3,
          "solution": false,
          "task": false
        },
        "id": "0pnRMfw1aolW"
      },
      "source": [
        "\n",
        "## Data Collection Types\n",
        "\n",
        "List down the definitions and differences between the different data collection types in python\n",
        "\n",
        "Instructions:\n",
        "- Enter your solution in the cell block below only. Double click to edit.\n",
        "- Do not edit anything else apart from 'YOUR ANSWER HERE' for your solution"
      ]
    },
    {
      "cell_type": "markdown",
      "metadata": {
        "deletable": false,
        "nbgrader": {
          "cell_type": "markdown",
          "checksum": "b1bb0f26c3115f4d7d7f924544ba6de8",
          "grade": true,
          "grade_id": "A1",
          "locked": false,
          "points": 2,
          "schema_version": 3,
          "solution": true,
          "task": false
        },
        "id": "yuz8RADPaolX"
      },
      "source": [
        "# *   **Different Datatype in Python**\n",
        "---\n",
        "## *  ***List :***\n",
        "1.   List an ordered sequence of items.\n",
        "2.   It can contain both homegenous and heterogenous data. \n",
        "3.   It is very flexible , frequently used datatype in python.\n",
        "---\n",
        "## *   ***String :***\n",
        "1.   String are immutable\n",
        "2.   It is sequence of Unicode characters.\n",
        "3.   We can use single quotes or double quotes. \n",
        "4.   Multi-line strings can be denoted using triple quotes, ''' or \"\"\"\n",
        "---\n",
        "## *   ***Tuple :***\n",
        "1.   Ordered sequence of item but it is immutable unlike list.\n",
        "2.   It means cannot be modified.\n",
        "3.   There are faster than the list.\n",
        "4.   It is defined within parentheses ().\n",
        "---\n",
        "# *  ***Number :***\n",
        "**   It is furter divided into\n",
        "\n",
        "** *  Integers - \"int\"\n",
        "\n",
        "** *  Floating point numbers - \"float\"\n",
        "\n",
        "** * Complex numbers - \"complex\"\n",
        "\n",
        "---\n",
        "##*  ***Dictionary :***\n",
        "1.   It is an unordered collection of key-value pairs.\n",
        "2.   Mostly used when we have a huge amount of data. \n",
        "3.   They are optimized for retrieving data. \n",
        "4.   Multi-line strings can be denoted using \n",
        "5.  They are defined within braces {} \n",
        "6.   It has each item being a pair in the form key:value.\n",
        "---\n",
        "##*   ***Set :***\n",
        "1.   It is an unordered collection of unique items.\n",
        "2.   It is defined by braces { }.\n",
        "---\n",
        "\n",
        "\n",
        " \n",
        " \n",
        "\n",
        "\n"
      ]
    },
    {
      "cell_type": "markdown",
      "metadata": {
        "deletable": false,
        "editable": false,
        "nbgrader": {
          "cell_type": "markdown",
          "checksum": "6ceecac5b4747119f66afcb8e2e4e890",
          "grade": false,
          "grade_id": "cell-a13189a026c3771d",
          "locked": true,
          "schema_version": 3,
          "solution": false,
          "task": false
        },
        "id": "BGnyozkAaolY"
      },
      "source": [
        "## Match the data types\n",
        "\n",
        "A) 1.0\\\n",
        "B) name\\\n",
        "C) 1\\\n",
        "D) true\n",
        "\n",
        "I. integer\\\n",
        "II. boolean\\\n",
        "III. string\\\n",
        "IV. float\\\n",
        "V. None"
      ]
    },
    {
      "cell_type": "markdown",
      "metadata": {
        "deletable": false,
        "nbgrader": {
          "cell_type": "markdown",
          "checksum": "38e5087b0ebe78439e867ce1a77c9bb6",
          "grade": true,
          "grade_id": "cell-5b0ec5b5f53b7705",
          "locked": false,
          "points": 2,
          "schema_version": 3,
          "solution": true,
          "task": false
        },
        "id": "dCSGQ2uiaolZ"
      },
      "source": [
        "**ANSWER**\n",
        "*   **A** - *IV*\n",
        "*   **B** - *III*\n",
        "*   **C** - *I*\n",
        "*   **D** - *II*\n",
        "\n",
        "\n",
        "\n"
      ]
    },
    {
      "cell_type": "markdown",
      "metadata": {
        "deletable": false,
        "editable": false,
        "nbgrader": {
          "cell_type": "markdown",
          "checksum": "c8e811b27d911880144df511cdbff7e8",
          "grade": false,
          "grade_id": "Q2",
          "locked": true,
          "schema_version": 3,
          "solution": false,
          "task": false
        },
        "id": "NDF-_5eraola"
      },
      "source": [
        "## Scenario Psuedo Code\n",
        "A general scenario you encounter while cleaning datasets is of strings containing integers and special characters in them. \n",
        "\n",
        "Ex: 'AP09XX8799' is a vehicle number which contains both numbers and the letters. 'AP' is the state code of vehicle registration and other numbers/letters signify other information.\n",
        "\n",
        "If a single line of such statement is given to you, explain the algorithm with psuedo code that you would use to find and differentiate all such letters and digits/special characters ?\n",
        "\n",
        "Instructions:\n",
        "- Enter your solution in the cell block below only. Double click to edit.\n",
        "- Do not edit anything else apart from 'YOUR ANSWER HERE' for your solution"
      ]
    },
    {
      "cell_type": "markdown",
      "metadata": {
        "deletable": false,
        "nbgrader": {
          "cell_type": "markdown",
          "checksum": "932f2babf6b7024bb49654516db0d0cb",
          "grade": true,
          "grade_id": "A2",
          "locked": false,
          "points": 2,
          "schema_version": 3,
          "solution": true,
          "task": false
        },
        "id": "yG3i7z-Iaolb"
      },
      "source": [
        "YOUR ANSWER HERE"
      ]
    },
    {
      "cell_type": "code",
      "metadata": {
        "deletable": false,
        "editable": false,
        "nbgrader": {
          "cell_type": "code",
          "checksum": "4a32da98702e61507f14b6eeb50c7c21",
          "grade": false,
          "grade_id": "cell-c583dcd635f03dab",
          "locked": true,
          "schema_version": 3,
          "solution": false,
          "task": false
        },
        "id": "UcMqDTucaolb",
        "colab": {
          "base_uri": "https://localhost:8080/"
        },
        "outputId": "ab567828-6636-4395-9adf-658fe0abfafb"
      },
      "source": [
        "\n",
        "\"\"\"\n",
        "1.Calculate the length of the string.\n",
        "2.Scan every character of a string one by one\n",
        "       if  is a digit then append it in cat_1 string.\n",
        "       else if is alphabet append in string cat_2.\n",
        "       else append in string cat_3.\n",
        "3.Print all the strings, we will have one string containing /n\n",
        "a numeric part,other non-numeric part, and the last /n\n",
        "one contains special characters.\n",
        "\n",
        "\"\"\"\n",
        "\n",
        "x = input()\n",
        "\n",
        "def radius(x):\n",
        " \n",
        "    cat_1 = \"\"\n",
        "    cat_2 = \"\"\n",
        "    cat_3 = \"\"\n",
        "    for i in range(len(x)):\n",
        "        if (x[i].isdigit()):\n",
        "            cat_2 = cat_2+ x[i]\n",
        "        elif((x[i] >= 'A' and x[i] <= 'Z') or\n",
        "             (x[i] >= 'a' and x[i] <= 'z')):\n",
        "            cat_1 += x[i]\n",
        "        else:\n",
        "            cat_3 += x[i]\n",
        " \n",
        "    print(cat_1)\n",
        "    print(cat_2)\n",
        "    print(cat_3)\n",
        "\n",
        "radius(x)"
      ],
      "execution_count": null,
      "outputs": [
        {
          "output_type": "stream",
          "name": "stdout",
          "text": [
            "sdf45\n",
            "sdf\n",
            "45\n",
            "\n"
          ]
        }
      ]
    },
    {
      "cell_type": "markdown",
      "metadata": {
        "deletable": false,
        "editable": false,
        "nbgrader": {
          "cell_type": "markdown",
          "checksum": "5ef100d3dc61d87b5fd6626cb92ade87",
          "grade": false,
          "grade_id": "Q3",
          "locked": true,
          "schema_version": 3,
          "solution": false,
          "task": false
        },
        "id": "SaLRQeHTaolc"
      },
      "source": [
        "## Greatest Common Divisor\n",
        "\n",
        "Write a program to find the greatest common divisor for two numbers\n",
        "\n",
        "Instructions:\n",
        "- Enter your solution in the cell block below only.\n",
        "- Do not edit anything else apart from 'YOUR ANSWER HERE' for your solution"
      ]
    },
    {
      "cell_type": "code",
      "metadata": {
        "deletable": false,
        "editable": false,
        "nbgrader": {
          "cell_type": "code",
          "checksum": "f88b0eebd4d316703cf56b4c48a72efa",
          "grade": false,
          "grade_id": "cell-f0e0b9c35862e705",
          "locked": true,
          "schema_version": 3,
          "solution": false,
          "task": false
        },
        "id": "zjHLjMtmaold",
        "colab": {
          "base_uri": "https://localhost:8080/"
        },
        "outputId": "f11d1ad8-a1be-40c2-83a0-031d5b5829db"
      },
      "source": [
        "import math\n",
        "x, y = [int(x) for x in input(\"Enter two value: \").split()]\n",
        "\n",
        "print(\"The gcd of given two number is : \", end=\"\")\n",
        "print(math.gcd(x, y))"
      ],
      "execution_count": null,
      "outputs": [
        {
          "output_type": "stream",
          "name": "stdout",
          "text": [
            "Enter two value: 8 2\n",
            "The gcd of given two number is : 2\n"
          ]
        }
      ]
    },
    {
      "cell_type": "markdown",
      "metadata": {
        "deletable": false,
        "editable": false,
        "nbgrader": {
          "cell_type": "markdown",
          "checksum": "0b48b77acc592a14a5eab148294322c2",
          "grade": false,
          "grade_id": "Q4",
          "locked": true,
          "schema_version": 3,
          "solution": false,
          "task": false
        },
        "id": "uFGacFEJaole"
      },
      "source": [
        "## List Operations\n",
        "\n",
        "Given two lists, write a program to perform the following operations on the lists;\n",
        "- Union\n",
        "- Intersection\n",
        "- Left Difference\n",
        "- Right Difference\n",
        "\n",
        "Instructions:\n",
        "- Enter your solution in the cell block below only.\n",
        "- Do not edit anything else apart from 'YOUR ANSWER HERE' for your solution"
      ]
    },
    {
      "cell_type": "code",
      "metadata": {
        "deletable": false,
        "editable": false,
        "nbgrader": {
          "cell_type": "code",
          "checksum": "f1b559db59d3786992d7062d60fced26",
          "grade": false,
          "grade_id": "cell-6975b5c3cd3b6be9",
          "locked": true,
          "schema_version": 3,
          "solution": false,
          "task": false
        },
        "id": "WZ4o_yUwaole",
        "colab": {
          "base_uri": "https://localhost:8080/"
        },
        "outputId": "6c9f9f57-e7e8-420d-b60f-100b955a38ef"
      },
      "source": [
        "list_1=(4,5,10,12)\n",
        "list_2=(1,9,11,12)\n",
        "list_0 = list_1+list_2 #union\n",
        "print(list_0)\n",
        "\n",
        "def intersection(list_1, list_2):\n",
        "    list_3 = [value for value in list_1 if value in list_2]\n",
        "    return list_3\n",
        "print(intersection(list_1, list_2))  #intersection\n",
        "\n"
      ],
      "execution_count": null,
      "outputs": [
        {
          "output_type": "stream",
          "name": "stdout",
          "text": [
            "(4, 5, 10, 12, 1, 9, 11, 12)\n",
            "[12]\n"
          ]
        }
      ]
    }
  ]
}