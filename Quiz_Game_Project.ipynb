{
  "nbformat": 4,
  "nbformat_minor": 0,
  "metadata": {
    "colab": {
      "name": "Quiz Game Project",
      "private_outputs": true,
      "provenance": [],
      "collapsed_sections": []
    },
    "kernelspec": {
      "name": "python3",
      "display_name": "Python 3"
    },
    "language_info": {
      "name": "python"
    }
  },
  "cells": [
    {
      "cell_type": "code",
      "execution_count": null,
      "metadata": {
        "id": "f-Dc6YJ1_W1T"
      },
      "outputs": [],
      "source": [
        "print('Welcome to my computer quiz!')"
      ]
    },
    {
      "cell_type": "code",
      "source": [
        "playing = input (\" DO you want to play? \")"
      ],
      "metadata": {
        "id": "GUcC0ayzAHVE"
      },
      "execution_count": null,
      "outputs": []
    },
    {
      "cell_type": "code",
      "source": [
        "if playing.lower() != 'yes':\n",
        "  quit()"
      ],
      "metadata": {
        "id": "_E0aLYVvAibd"
      },
      "execution_count": null,
      "outputs": []
    },
    {
      "cell_type": "code",
      "source": [
        "print(\"Okay! let's play:)\")"
      ],
      "metadata": {
        "id": "wZv5tV5RA1SM"
      },
      "execution_count": null,
      "outputs": []
    },
    {
      "cell_type": "code",
      "source": [
        "score = 0"
      ],
      "metadata": {
        "id": "WyMluFeLDr4A"
      },
      "execution_count": null,
      "outputs": []
    },
    {
      "cell_type": "markdown",
      "source": [
        ""
      ],
      "metadata": {
        "id": "bI2wtyvFBTCE"
      }
    },
    {
      "cell_type": "code",
      "source": [
        "answer = input (\"what does CPU stand for? \")\n",
        "if answer.lower() == \"central processing unit\":\n",
        "  print(\"Correct!\")\n",
        "  score += 1\n",
        "else:\n",
        "  print(\"Incorrect!\")"
      ],
      "metadata": {
        "id": "IurxWi8qBT2G"
      },
      "execution_count": null,
      "outputs": []
    },
    {
      "cell_type": "code",
      "source": [
        "answer = input (\"what does GPU stand for? \")\n",
        "if answer.lower() == \" graphics processing unit \":\n",
        "  print(\"Correct!\")\n",
        "  score += 1\n",
        "else:\n",
        "  print(\"Incorrect!\")"
      ],
      "metadata": {
        "id": "GPFmAzZMCETR"
      },
      "execution_count": null,
      "outputs": []
    },
    {
      "cell_type": "code",
      "source": [
        "answer = input (\" What does RAM stand for?\")\n",
        "if answer.lower() == \"random acess memmory\":\n",
        "  print(\"Correct!\")\n",
        "  score += 1\n",
        "else:\n",
        "  print(\"Incorrect!\")"
      ],
      "metadata": {
        "id": "wu3OUcyqCDZd"
      },
      "execution_count": null,
      "outputs": []
    },
    {
      "cell_type": "code",
      "source": [
        "answer = input (\" What does ROM stand for? \")\n",
        "if answer.lower() == \"read on memory\":\n",
        "  print(\"Correct!\")\n",
        "  score += 1\n",
        "else:\n",
        "  print(\"Incorrect!\")"
      ],
      "metadata": {
        "id": "xRBAcr9lCC8m"
      },
      "execution_count": null,
      "outputs": []
    },
    {
      "cell_type": "code",
      "source": [
        "print(\"You got \" + str(score) + \"question correct\" )"
      ],
      "metadata": {
        "id": "aF456JpGEE7v"
      },
      "execution_count": null,
      "outputs": []
    },
    {
      "cell_type": "code",
      "source": [
        "print(\"You got \" + str((score / 4 ) * 100) + \"%. \" )"
      ],
      "metadata": {
        "id": "TJzR8nuhEpZ3"
      },
      "execution_count": null,
      "outputs": []
    }
  ]
}