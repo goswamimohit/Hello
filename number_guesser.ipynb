{
  "nbformat": 4,
  "nbformat_minor": 0,
  "metadata": {
    "colab": {
      "name": "number_guesser.ipynb",
      "private_outputs": true,
      "provenance": [],
      "collapsed_sections": []
    },
    "kernelspec": {
      "name": "python3",
      "display_name": "Python 3"
    },
    "language_info": {
      "name": "python"
    }
  },
  "cells": [
    {
      "cell_type": "code",
      "execution_count": null,
      "metadata": {
        "id": "dQwwrebHFWb0"
      },
      "outputs": [],
      "source": [
        "import random"
      ]
    },
    {
      "cell_type": "code",
      "source": [
        "top_of_range = input(\"Type a number: \")\n",
        "\n",
        "if top_of_range.isdigit():\n",
        "  top_of_range = int(top_of_range)\n",
        "\n",
        "  if top_of_range <= 0:\n",
        "    print('Please type a number larger than 0 next time')\n",
        "    quit ()\n",
        "else:\n",
        "  print('Please type a number next time')\n",
        "  quit()\n",
        "\n",
        "random_number = random.randint(0,top_of_range )\n",
        "gusses = 0\n",
        "\n",
        "while True:\n",
        "  gusses += 1\n",
        "  user_guess = input(\"Make a guess: \")\n",
        "  if user_guess.isdigit():\n",
        "   user_guess = int(user_guess)\n",
        "  else:\n",
        "    print('Please type a number next time')\n",
        "    continue\n",
        "\n",
        "  if user_guess == random_number:\n",
        "    print(\"Ypu got it\")\n",
        "    break\n",
        "  elif user_guess > random_number:\n",
        "      print (\"You were above thr number!\")\n",
        "  else:\n",
        "      print ( \"You below the number\")\n",
        "    \n",
        "print(\"You got it\" , gusses,\"gussess\"  )"
      ],
      "metadata": {
        "id": "qV98-nsjF4FE"
      },
      "execution_count": null,
      "outputs": []
    }
  ]
}