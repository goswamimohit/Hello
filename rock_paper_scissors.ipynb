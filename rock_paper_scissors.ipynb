{
  "nbformat": 4,
  "nbformat_minor": 0,
  "metadata": {
    "colab": {
      "name": "rock_paper_scissors.ipynb",
      "private_outputs": true,
      "provenance": [],
      "collapsed_sections": []
    },
    "kernelspec": {
      "name": "python3",
      "display_name": "Python 3"
    },
    "language_info": {
      "name": "python"
    }
  },
  "cells": [
    {
      "cell_type": "code",
      "execution_count": null,
      "metadata": {
        "id": "tRMqWZZhXSCJ"
      },
      "outputs": [],
      "source": [
        "import random\n"
      ]
    },
    {
      "cell_type": "code",
      "source": [
        "user_wins = 0\n",
        "computer_wins = 0\n",
        "\n",
        "options = [\"rock\",\"paper\",\"scissor\"]\n",
        "\n",
        "\n",
        "while True:\n",
        "  user_input = input(\"Type Rock/Paper/Scissors or Q to quit: \").lower()\n",
        "  if user_input == \"q\":\n",
        "    break\n",
        "\n",
        "  if user_input not in options :\n",
        "    continue\n",
        "  \n",
        "  random_number = random.randint(0, 2)\n",
        "  # rock : 0, paper : 1, scissors : 2\n",
        "  computer_pick = options[random_number]\n",
        "  print(\"computer_picked\" , computer_pick )\n",
        "\n",
        "  if user_input == \"rock\" and computer_pick == \"scissor\":\n",
        "    print (\"You won!\")\n",
        "    user_wins += 1\n",
        "\n",
        "  elif user_input == \"rock\" and computer_pick == \"paper\":\n",
        "    print (\"You won!\")\n",
        "    user_wins += 1\n",
        "  \n",
        "  elif user_input == \"rock\" and computer_pick == \"rock\":\n",
        "    print (\"You won!\")\n",
        "    user_wins += 1\n",
        "  \n",
        "  else:\n",
        "    print(\"You lost!\")\n",
        "    computer_wins += 1\n",
        "\n",
        "print(\"You won\", user_wins, \"times.\")\n",
        "print(\"the computer won\", computer_wins, \"times.\")\n",
        "    \n",
        "\n",
        "print (\"Goodbye!\")"
      ],
      "metadata": {
        "id": "wuFACnVYXhNW"
      },
      "execution_count": null,
      "outputs": []
    }
  ]
}